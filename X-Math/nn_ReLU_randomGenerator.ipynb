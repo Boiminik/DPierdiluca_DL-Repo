{
 "cells": [
  {
   "cell_type": "markdown",
   "metadata": {},
   "source": [
    "<h3>Neural network, math experimentation</h3>"
   ]
  },
  {
   "cell_type": "code",
   "execution_count": 78,
   "metadata": {},
   "outputs": [],
   "source": [
    "# activation functions\n",
    "# ReLu is very simple, it filters out all negative numbers\n",
    "# this is a powerful activation function in reality\n",
    "def activation_ReLu(number):\n",
    "    if number > 0:\n",
    "        return number\n",
    "    else:\n",
    "        return 0\n",
    "    \n",
    "# we also need a derived version of ReLu later\n",
    "# otherwise the same than original, but instead of original value\n",
    "# return 1 instead\n",
    "def activation_ReLu_partial_derivative(number):\n",
    "    if number > 0:\n",
    "        return 1\n",
    "    else:\n",
    "        return 0"
   ]
  },
  {
   "cell_type": "code",
   "execution_count": null,
   "metadata": {},
   "outputs": [],
   "source": [
    "import random\n",
    "\n",
    "# initialize weights and biases\n",
    "# in Keras etc. these are usually randomized in the beginning\n",
    "\n",
    "# Random number generator:\n",
    "# Freely adjustable weights and biases arrays\n",
    "weights = [f'w{i}' for i in range(1, 7)]\n",
    "biases = [f'bias{i}' for i in range(1, 4)]\n",
    "\n",
    "# dictionary to hold the values\n",
    "variables = {}\n",
    "\n",
    "# random values for weights\n",
    "for weight in weights:\n",
    "    variables[weight] = random.uniform(-1, 1) # we'll use ranges from -1 to 1, since this is most fitting for our network\n",
    "\n",
    "# and for biases\n",
    "for bias in biases:\n",
    "    variables[bias] = random.uniform(-1, 1)\n",
    "\n",
    "# our training data\n",
    "# x1 = input1, x2 = input2, y = true_value\n",
    "input1 = 1\n",
    "input2 = 0\n",
    "true_value = 2\n",
    "\n",
    "# our learning rate\n",
    "LR = 0.01"
   ]
  },
  {
   "cell_type": "markdown",
   "metadata": {},
   "source": [
    "<b>FORWARD PASS</b>"
   ]
  },
  {
   "cell_type": "code",
   "execution_count": 80,
   "metadata": {},
   "outputs": [
    {
     "data": {
      "text/plain": [
       "0"
      ]
     },
     "execution_count": 80,
     "metadata": {},
     "output_type": "execute_result"
    }
   ],
   "source": [
    "# NODE 1 OUTPUT\n",
    "node_1_output = input1 * w1 + input2 * w3 + bias1\n",
    "node_1_output = activation_ReLu(node_1_output)\n",
    "node_1_output"
   ]
  },
  {
   "cell_type": "code",
   "execution_count": 81,
   "metadata": {},
   "outputs": [
    {
     "data": {
      "text/plain": [
       "0.916833058974408"
      ]
     },
     "execution_count": 81,
     "metadata": {},
     "output_type": "execute_result"
    }
   ],
   "source": [
    "# NODE 2 OUTPUT\n",
    "node_2_output = input1 * w2 + input2 * w4 + bias2\n",
    "node_2_output = activation_ReLu(node_2_output)\n",
    "node_2_output"
   ]
  },
  {
   "cell_type": "code",
   "execution_count": 82,
   "metadata": {},
   "outputs": [
    {
     "data": {
      "text/plain": [
       "1.476905677986447"
      ]
     },
     "execution_count": 82,
     "metadata": {},
     "output_type": "execute_result"
    }
   ],
   "source": [
    "# NODE 3 OUTPUT\n",
    "# we can just use Node 1 and 2 outputs, since they\n",
    "# already contain the the previous weights\n",
    "node_3_output = node_1_output * w5 + node_2_output * w6 + bias3\n",
    "node_3_output = activation_ReLu(node_3_output)\n",
    "node_3_output"
   ]
  },
  {
   "cell_type": "code",
   "execution_count": 83,
   "metadata": {},
   "outputs": [
    {
     "name": "stdout",
     "output_type": "stream",
     "text": [
      "Predicted: 1.476905677986447 --> True value: 2\n"
     ]
    }
   ],
   "source": [
    "# compare predicted value with true value\n",
    "print(f\"Predicted: {node_3_output} --> True value: {true_value}\")"
   ]
  },
  {
   "cell_type": "code",
   "execution_count": 84,
   "metadata": {},
   "outputs": [
    {
     "data": {
      "text/plain": [
       "0.27362766972281877"
      ]
     },
     "execution_count": 84,
     "metadata": {},
     "output_type": "execute_result"
    }
   ],
   "source": [
    "# LOSS FUNCTION - we are going to use MSE -> mean squared error\n",
    "# MSE formula LOSS => (predicted_value - true_value) ^ 2\n",
    "predicted_value = node_3_output\n",
    "loss = (predicted_value - true_value) ** 2\n",
    "loss"
   ]
  },
  {
   "cell_type": "markdown",
   "metadata": {},
   "source": [
    "<h3>BACKPROPAGATION - update the weights and biases while traversing the network BACKWARDS</h3>"
   ]
  },
  {
   "cell_type": "code",
   "execution_count": 85,
   "metadata": {},
   "outputs": [
    {
     "data": {
      "text/plain": [
       "-0.0"
      ]
     },
     "execution_count": 85,
     "metadata": {},
     "output_type": "execute_result"
    }
   ],
   "source": [
    "# solving the partial derivative of the loss function with respect to weight 5\n",
    "deriv_L_w5 = 2 * node_1_output * (node_1_output * w5 + node_2_output * w6 + bias3 - true_value)\n",
    "deriv_L_w5"
   ]
  },
  {
   "cell_type": "code",
   "execution_count": 86,
   "metadata": {},
   "outputs": [
    {
     "data": {
      "text/plain": [
       "-0.658763926510477"
      ]
     },
     "execution_count": 86,
     "metadata": {},
     "output_type": "execute_result"
    }
   ],
   "source": [
    "# this decreases the weight value a little bit\n",
    "# this is basically our optimizer + learning rate\n",
    "# this optimizer is known as gradient descent\n",
    "new_w5 = w5 - LR * deriv_L_w5\n",
    "new_w5"
   ]
  },
  {
   "cell_type": "code",
   "execution_count": 87,
   "metadata": {},
   "outputs": [
    {
     "data": {
      "text/plain": [
       "-0.9591803347676598"
      ]
     },
     "execution_count": 87,
     "metadata": {},
     "output_type": "execute_result"
    }
   ],
   "source": [
    "# solving the partial derivative of the loss function with respect to weight 6\n",
    "deriv_L_w6 = 2 * node_2_output * (node_1_output * w5 + node_2_output * w6 + bias3 - true_value)\n",
    "deriv_L_w6"
   ]
  },
  {
   "cell_type": "code",
   "execution_count": 88,
   "metadata": {},
   "outputs": [
    {
     "data": {
      "text/plain": [
       "0.8230405579609998"
      ]
     },
     "execution_count": 88,
     "metadata": {},
     "output_type": "execute_result"
    }
   ],
   "source": [
    "# calculate new value for weight 6\n",
    "new_w6 = w6 - LR * deriv_L_w6\n",
    "new_w6"
   ]
  },
  {
   "cell_type": "code",
   "execution_count": 89,
   "metadata": {},
   "outputs": [
    {
     "data": {
      "text/plain": [
       "-1.0461886440271062"
      ]
     },
     "execution_count": 89,
     "metadata": {},
     "output_type": "execute_result"
    }
   ],
   "source": [
    "# solving the partial derivative of the loss function with respect to bias3\n",
    "# NOTE: the * 1 comes from derivating the bias, which is same as derivating x, \n",
    "# which result in 1\n",
    "deriv_L_b3 = 2 * 1 * (node_1_output * w5 + node_2_output * w6 + bias3 - true_value)\n",
    "deriv_L_b3"
   ]
  },
  {
   "cell_type": "code",
   "execution_count": 90,
   "metadata": {},
   "outputs": [
    {
     "data": {
      "text/plain": [
       "0.7415708544156621"
      ]
     },
     "execution_count": 90,
     "metadata": {},
     "output_type": "execute_result"
    }
   ],
   "source": [
    "# update the bias 3 based on previous derivation\n",
    "new_b3 = bias3 - LR * deriv_L_b3\n",
    "new_b3"
   ]
  },
  {
   "cell_type": "markdown",
   "metadata": {},
   "source": [
    "<b>To access the first layer, we need to use chain rule, in order to calculate new values for w1-w4 and bias1/2</b>"
   ]
  },
  {
   "cell_type": "code",
   "execution_count": 91,
   "metadata": {},
   "outputs": [
    {
     "data": {
      "text/plain": [
       "-0.2708094937040322"
      ]
     },
     "execution_count": 91,
     "metadata": {},
     "output_type": "execute_result"
    }
   ],
   "source": [
    "# see materials for how we need to split this calculation into two parts\n",
    "# here we solve the left and right sides separately\n",
    "\n",
    "# left side is mostly the same as derivating w5 and w6\n",
    "deriv_L_w1_left = 2 * w5 * (node_1_output * w5 + node_2_output * w6 + bias3 - true_value)\n",
    "\n",
    "# right side: use ReLu derivation and remember to match correct weights with correct inputs and biases\n",
    "# based on which weight are you are derivating\n",
    "# COMPARE THE OTHER ORIGINAL PICTURE IN THE MATERIALS\n",
    "# in the case of w1 => use w1 and and w3 inside the Relu-derivation, because\n",
    "# these weights are connected to node 1 (which is connected to w1)\n",
    "# also use bias1, since it's part of node 1\n",
    "# finally, multiply all with input1, because it is connected to w1\n",
    "deriv_L_w1_right = activation_ReLu_partial_derivative(input1 * w1 + input2 * w3 + bias1) * input1\n",
    "deriv_L_w1 = deriv_L_w1_left * deriv_L_w1_right\n",
    "new_w1 = w1 - LR * deriv_L_w1\n",
    "new_w1"
   ]
  },
  {
   "cell_type": "code",
   "execution_count": 92,
   "metadata": {},
   "outputs": [
    {
     "data": {
      "text/plain": [
       "0.8730296217823986"
      ]
     },
     "execution_count": 92,
     "metadata": {},
     "output_type": "execute_result"
    }
   ],
   "source": [
    "# use the same logic as above, but now from the point of view of w2\n",
    "# notice how we use w6 and w2/w4 and bias2 in the equation of right side\n",
    "deriv_L_w2_left = 2 * w6 * (node_1_output * w5 + node_2_output * w6 + bias3 - true_value)\n",
    "deriv_L_w2_right = activation_ReLu_partial_derivative(input1 * w2 + input2 * w4 + bias2) * input1\n",
    "deriv_L_w2 = deriv_L_w2_left * deriv_L_w2_right\n",
    "new_w2 = w2 - LR * deriv_L_w2\n",
    "new_w2"
   ]
  },
  {
   "cell_type": "code",
   "execution_count": 93,
   "metadata": {},
   "outputs": [
    {
     "data": {
      "text/plain": [
       "0.375139189073187"
      ]
     },
     "execution_count": 93,
     "metadata": {},
     "output_type": "execute_result"
    }
   ],
   "source": [
    "# use the same formula again\n",
    "deriv_L_w3_left = 2 * w5 * (node_1_output * w5 + node_2_output * w6 + bias3 - true_value)\n",
    "deriv_L_w3_right = activation_ReLu_partial_derivative(input1 * w1 + input2 * w3 + bias1) * input2\n",
    "deriv_L_w3 = deriv_L_w3_left * deriv_L_w3_right\n",
    "new_w3 = w3 - LR * deriv_L_w3\n",
    "new_w3"
   ]
  },
  {
   "cell_type": "code",
   "execution_count": 94,
   "metadata": {},
   "outputs": [
    {
     "data": {
      "text/plain": [
       "-0.9925752441255713"
      ]
     },
     "execution_count": 94,
     "metadata": {},
     "output_type": "execute_result"
    }
   ],
   "source": [
    "# use the same formula again\n",
    "deriv_L_w4_left = 2 * w6 * (node_1_output * w5 + node_2_output * w6 + bias3 - true_value)\n",
    "deriv_L_w4_right = activation_ReLu_partial_derivative(input1 * w2 + input2 * w4 + bias2) * input2\n",
    "deriv_L_w4 = deriv_L_w4_left * deriv_L_w4_right\n",
    "new_w4 = w4 - LR * deriv_L_w4\n",
    "new_w4"
   ]
  },
  {
   "cell_type": "code",
   "execution_count": 95,
   "metadata": {},
   "outputs": [
    {
     "data": {
      "text/plain": [
       "-0.8865132116250227"
      ]
     },
     "execution_count": 95,
     "metadata": {},
     "output_type": "execute_result"
    }
   ],
   "source": [
    "# otherwise the same formula, but we can multiply the right side function with just 1\n",
    "# because it's a derivation of bias-term, which is the same as derivation of x, which results in 1\n",
    "deriv_L_b1_left = 2 * w5 * (node_1_output * w5 + node_2_output * w6 + bias3 - true_value)\n",
    "deriv_L_b1_right = activation_ReLu_partial_derivative(input1 * w1 + input2 * w3 + bias1) * 1\n",
    "deriv_L_b1 = deriv_L_b1_left * deriv_L_b1_right\n",
    "new_b1 = bias1 - LR * deriv_L_b1\n",
    "new_b1"
   ]
  },
  {
   "cell_type": "code",
   "execution_count": 96,
   "metadata": {},
   "outputs": [
    {
     "data": {
      "text/plain": [
       "0.06082385418349838"
      ]
     },
     "execution_count": 96,
     "metadata": {},
     "output_type": "execute_result"
    }
   ],
   "source": [
    "# similar derivation of bias 2\n",
    "deriv_L_b2_left = 2 * w6 * (node_1_output * w5 + node_2_output * w6 + bias3 - true_value)\n",
    "deriv_L_b2_right = activation_ReLu_partial_derivative(input1 * w2 + input2 * w4 + bias2) * 1\n",
    "deriv_L_b2 = deriv_L_b2_left * deriv_L_b2_right\n",
    "new_b2 = bias2 - LR * deriv_L_b2\n",
    "new_b2"
   ]
  },
  {
   "cell_type": "markdown",
   "metadata": {},
   "source": [
    "<b>Everything should be okay now, let's compare the results</b>"
   ]
  },
  {
   "cell_type": "code",
   "execution_count": 97,
   "metadata": {},
   "outputs": [
    {
     "name": "stdout",
     "output_type": "stream",
     "text": [
      "ORIGINAL WEIGHTS AND BIASES\n",
      "w1: -0.2708094937040322\n",
      "w2: 0.8645194132866542\n",
      "w3: 0.375139189073187\n",
      "w4: -0.9925752441255713\n",
      "w5: -0.658763926510477\n",
      "w6: 0.8134487546133232\n",
      "b1: -0.8865132116250227\n",
      "b2: 0.052313645687753874\n",
      "b3: 0.731108967975391\n",
      "\n",
      "\n",
      "######################################\n",
      "NEW WEIGHTS AND BIASES\n",
      "w1: -0.2708094937040322\n",
      "w2: 0.8730296217823986\n",
      "w3: 0.375139189073187\n",
      "w4: -0.9925752441255713\n",
      "w5: -0.658763926510477\n",
      "w6: 0.8230405579609998\n",
      "b1: -0.8865132116250227\n",
      "b2: 0.06082385418349838\n",
      "b3: 0.7415708544156621\n"
     ]
    }
   ],
   "source": [
    "print(\"ORIGINAL WEIGHTS AND BIASES\")\n",
    "print(f\"w1: {w1}\")\n",
    "print(f\"w2: {w2}\")\n",
    "print(f\"w3: {w3}\")\n",
    "print(f\"w4: {w4}\")\n",
    "print(f\"w5: {w5}\")\n",
    "print(f\"w6: {w6}\")\n",
    "print(f\"b1: {bias1}\")\n",
    "print(f\"b2: {bias2}\")\n",
    "print(f\"b3: {bias3}\")\n",
    "\n",
    "print(\"\\n\\n######################################\")\n",
    "\n",
    "print(\"NEW WEIGHTS AND BIASES\")\n",
    "print(f\"w1: {new_w1}\")\n",
    "print(f\"w2: {new_w2}\")\n",
    "print(f\"w3: {new_w3}\")\n",
    "print(f\"w4: {new_w4}\")\n",
    "print(f\"w5: {new_w5}\")\n",
    "print(f\"w6: {new_w6}\")\n",
    "print(f\"b1: {new_b1}\")\n",
    "print(f\"b2: {new_b2}\")\n",
    "print(f\"b3: {new_b3}\")\n",
    "\n"
   ]
  },
  {
   "cell_type": "markdown",
   "metadata": {},
   "source": [
    "<b>Trying with new values and increased learning rate"
   ]
  },
  {
   "cell_type": "code",
   "execution_count": 98,
   "metadata": {},
   "outputs": [],
   "source": [
    "# initialize weights and biases\n",
    "# in Keras etc. these are usually randomized in the beginning\n",
    "w1 = new_w1\n",
    "w2 = new_w2\n",
    "w3 = new_w3\n",
    "w4 = new_w4\n",
    "w5 = new_w5\n",
    "w6 = new_w6\n",
    "bias1 = new_b1\n",
    "bias2 = new_b2\n",
    "bias3 = new_b3\n",
    "\n",
    "# our training data\n",
    "# x1 = input1, x2 = input2, y = true_value\n",
    "input1 = 1\n",
    "input2 = 0\n",
    "true_value = 2\n",
    "\n",
    "# our learning rate\n",
    "LR = 0.05"
   ]
  },
  {
   "cell_type": "markdown",
   "metadata": {},
   "source": [
    "<b>FORWARDS PASS"
   ]
  },
  {
   "cell_type": "code",
   "execution_count": 99,
   "metadata": {},
   "outputs": [
    {
     "data": {
      "text/plain": [
       "0"
      ]
     },
     "execution_count": 99,
     "metadata": {},
     "output_type": "execute_result"
    }
   ],
   "source": [
    "# NODE 1 OUTPUT\n",
    "node_1_output = input1 * w1 + input2 * w3 + bias1\n",
    "node_1_output = activation_ReLu(node_1_output)\n",
    "node_1_output"
   ]
  },
  {
   "cell_type": "code",
   "execution_count": 100,
   "metadata": {},
   "outputs": [
    {
     "data": {
      "text/plain": [
       "0.933853475965897"
      ]
     },
     "execution_count": 100,
     "metadata": {},
     "output_type": "execute_result"
    }
   ],
   "source": [
    "# NODE 2 OUTPUT\n",
    "node_2_output = input1 * w2 + input2 * w4 + bias2\n",
    "node_2_output = activation_ReLu(node_2_output)\n",
    "node_2_output"
   ]
  },
  {
   "cell_type": "code",
   "execution_count": 101,
   "metadata": {},
   "outputs": [
    {
     "data": {
      "text/plain": [
       "1.510170140328453"
      ]
     },
     "execution_count": 101,
     "metadata": {},
     "output_type": "execute_result"
    }
   ],
   "source": [
    "# NODE 3 OUTPUT\n",
    "# we can just use Node 1 and 2 outputs, since they\n",
    "# already contain the the previous weights\n",
    "node_3_output = node_1_output * w5 + node_2_output * w6 + bias3\n",
    "node_3_output = activation_ReLu(node_3_output)\n",
    "node_3_output"
   ]
  },
  {
   "cell_type": "code",
   "execution_count": 102,
   "metadata": {},
   "outputs": [
    {
     "name": "stdout",
     "output_type": "stream",
     "text": [
      "Predicted: 1.510170140328453 --> True value: 2\n"
     ]
    }
   ],
   "source": [
    "# compare predicted value with true value\n",
    "print(f\"Predicted: {node_3_output} --> True value: {true_value}\")"
   ]
  },
  {
   "cell_type": "code",
   "execution_count": 103,
   "metadata": {},
   "outputs": [
    {
     "data": {
      "text/plain": [
       "0.23993329142584732"
      ]
     },
     "execution_count": 103,
     "metadata": {},
     "output_type": "execute_result"
    }
   ],
   "source": [
    "# LOSS FUNCTION - we are going to use MSE -> mean squared error\n",
    "# MSE formula LOSS => (predicted_value - true_value) ^ 2\n",
    "predicted_value = node_3_output\n",
    "loss = (predicted_value - true_value) ** 2\n",
    "loss"
   ]
  },
  {
   "cell_type": "markdown",
   "metadata": {},
   "source": [
    "<h3>BACKPROPAGATION - update the weights and biases while traversing the network BACKWARDS</h3>"
   ]
  },
  {
   "cell_type": "code",
   "execution_count": 104,
   "metadata": {},
   "outputs": [
    {
     "data": {
      "text/plain": [
       "-0.0"
      ]
     },
     "execution_count": 104,
     "metadata": {},
     "output_type": "execute_result"
    }
   ],
   "source": [
    "# solving the partial derivative of the loss function with respect to weight 5\n",
    "deriv_L_w5 = 2 * node_1_output * (node_1_output * w5 + node_2_output * w6 + bias3 - true_value)\n",
    "deriv_L_w5"
   ]
  },
  {
   "cell_type": "code",
   "execution_count": 105,
   "metadata": {},
   "outputs": [
    {
     "data": {
      "text/plain": [
       "-0.658763926510477"
      ]
     },
     "execution_count": 105,
     "metadata": {},
     "output_type": "execute_result"
    }
   ],
   "source": [
    "# this decreases the weight value a little bit\n",
    "# this is basically our optimizer + learning rate\n",
    "# this optimizer is known as gradient descent\n",
    "new_w5 = w5 - LR * deriv_L_w5\n",
    "new_w5"
   ]
  },
  {
   "cell_type": "code",
   "execution_count": 106,
   "metadata": {},
   "outputs": [
    {
     "data": {
      "text/plain": [
       "-0.9148586341723233"
      ]
     },
     "execution_count": 106,
     "metadata": {},
     "output_type": "execute_result"
    }
   ],
   "source": [
    "# solving the partial derivative of the loss function with respect to weight 6\n",
    "deriv_L_w6 = 2 * node_2_output * (node_1_output * w5 + node_2_output * w6 + bias3 - true_value)\n",
    "deriv_L_w6"
   ]
  },
  {
   "cell_type": "code",
   "execution_count": 107,
   "metadata": {},
   "outputs": [
    {
     "data": {
      "text/plain": [
       "0.868783489669616"
      ]
     },
     "execution_count": 107,
     "metadata": {},
     "output_type": "execute_result"
    }
   ],
   "source": [
    "# calculate new value for weight 6\n",
    "new_w6 = w6 - LR * deriv_L_w6\n",
    "new_w6"
   ]
  },
  {
   "cell_type": "code",
   "execution_count": 108,
   "metadata": {},
   "outputs": [
    {
     "data": {
      "text/plain": [
       "-0.9796597193430938"
      ]
     },
     "execution_count": 108,
     "metadata": {},
     "output_type": "execute_result"
    }
   ],
   "source": [
    "# solving the partial derivative of the loss function with respect to bias3\n",
    "# NOTE: the * 1 comes from derivating the bias, which is same as derivating x, \n",
    "# which result in 1\n",
    "deriv_L_b3 = 2 * 1 * (node_1_output * w5 + node_2_output * w6 + bias3 - true_value)\n",
    "deriv_L_b3"
   ]
  },
  {
   "cell_type": "code",
   "execution_count": 109,
   "metadata": {},
   "outputs": [
    {
     "data": {
      "text/plain": [
       "0.7905538403828167"
      ]
     },
     "execution_count": 109,
     "metadata": {},
     "output_type": "execute_result"
    }
   ],
   "source": [
    "# update the bias 3 based on previous derivation\n",
    "new_b3 = bias3 - LR * deriv_L_b3\n",
    "new_b3"
   ]
  },
  {
   "cell_type": "markdown",
   "metadata": {},
   "source": [
    "<b>To access the first layer, we need to use chain rule, in order to calculate new values for w1-w4 and bias1/2</b>"
   ]
  },
  {
   "cell_type": "code",
   "execution_count": 110,
   "metadata": {},
   "outputs": [
    {
     "data": {
      "text/plain": [
       "-0.2708094937040322"
      ]
     },
     "execution_count": 110,
     "metadata": {},
     "output_type": "execute_result"
    }
   ],
   "source": [
    "# see materials for how we need to split this calculation into two parts\n",
    "# here we solve the left and right sides separately\n",
    "\n",
    "# left side is mostly the same as derivating w5 and w6\n",
    "deriv_L_w1_left = 2 * w5 * (node_1_output * w5 + node_2_output * w6 + bias3 - true_value)\n",
    "\n",
    "# right side: use ReLu derivation and remember to match correct weights with correct inputs and biases\n",
    "# based on which weight are you are derivating\n",
    "# COMPARE THE OTHER ORIGINAL PICTURE IN THE MATERIALS\n",
    "# in the case of w1 => use w1 and and w3 inside the Relu-derivation, because\n",
    "# these weights are connected to node 1 (which is connected to w1)\n",
    "# also use bias1, since it's part of node 1\n",
    "# finally, multiply all with input1, because it is connected to w1\n",
    "deriv_L_w1_right = activation_ReLu_partial_derivative(input1 * w1 + input2 * w3 + bias1) * input1\n",
    "deriv_L_w1 = deriv_L_w1_left * deriv_L_w1_right\n",
    "new_w1 = w1 - LR * deriv_L_w1\n",
    "new_w1"
   ]
  },
  {
   "cell_type": "code",
   "execution_count": 111,
   "metadata": {},
   "outputs": [
    {
     "data": {
      "text/plain": [
       "0.9133446058834015"
      ]
     },
     "execution_count": 111,
     "metadata": {},
     "output_type": "execute_result"
    }
   ],
   "source": [
    "# use the same logic as above, but now from the point of view of w2\n",
    "# notice how we use w6 and w2/w4 and bias2 in the equation of right side\n",
    "deriv_L_w2_left = 2 * w6 * (node_1_output * w5 + node_2_output * w6 + bias3 - true_value)\n",
    "deriv_L_w2_right = activation_ReLu_partial_derivative(input1 * w2 + input2 * w4 + bias2) * input1\n",
    "deriv_L_w2 = deriv_L_w2_left * deriv_L_w2_right\n",
    "new_w2 = w2 - LR * deriv_L_w2\n",
    "new_w2"
   ]
  },
  {
   "cell_type": "code",
   "execution_count": 112,
   "metadata": {},
   "outputs": [
    {
     "data": {
      "text/plain": [
       "0.375139189073187"
      ]
     },
     "execution_count": 112,
     "metadata": {},
     "output_type": "execute_result"
    }
   ],
   "source": [
    "# use the same formula again\n",
    "deriv_L_w3_left = 2 * w5 * (node_1_output * w5 + node_2_output * w6 + bias3 - true_value)\n",
    "deriv_L_w3_right = activation_ReLu_partial_derivative(input1 * w1 + input2 * w3 + bias1) * input2\n",
    "deriv_L_w3 = deriv_L_w3_left * deriv_L_w3_right\n",
    "new_w3 = w3 - LR * deriv_L_w3\n",
    "new_w3"
   ]
  },
  {
   "cell_type": "code",
   "execution_count": 113,
   "metadata": {},
   "outputs": [
    {
     "data": {
      "text/plain": [
       "-0.9925752441255713"
      ]
     },
     "execution_count": 113,
     "metadata": {},
     "output_type": "execute_result"
    }
   ],
   "source": [
    "# use the same formula again\n",
    "deriv_L_w4_left = 2 * w6 * (node_1_output * w5 + node_2_output * w6 + bias3 - true_value)\n",
    "deriv_L_w4_right = activation_ReLu_partial_derivative(input1 * w2 + input2 * w4 + bias2) * input2\n",
    "deriv_L_w4 = deriv_L_w4_left * deriv_L_w4_right\n",
    "new_w4 = w4 - LR * deriv_L_w4\n",
    "new_w4"
   ]
  },
  {
   "cell_type": "code",
   "execution_count": 114,
   "metadata": {},
   "outputs": [
    {
     "data": {
      "text/plain": [
       "-0.8865132116250227"
      ]
     },
     "execution_count": 114,
     "metadata": {},
     "output_type": "execute_result"
    }
   ],
   "source": [
    "# otherwise the same formula, but we can multiply the right side function with just 1\n",
    "# because it's a derivation of bias-term, which is the same as derivation of x, which results in 1\n",
    "deriv_L_b1_left = 2 * w5 * (node_1_output * w5 + node_2_output * w6 + bias3 - true_value)\n",
    "deriv_L_b1_right = activation_ReLu_partial_derivative(input1 * w1 + input2 * w3 + bias1) * 1\n",
    "deriv_L_b1 = deriv_L_b1_left * deriv_L_b1_right\n",
    "new_b1 = bias1 - LR * deriv_L_b1\n",
    "new_b1"
   ]
  },
  {
   "cell_type": "code",
   "execution_count": 115,
   "metadata": {},
   "outputs": [
    {
     "data": {
      "text/plain": [
       "0.10113883828450121"
      ]
     },
     "execution_count": 115,
     "metadata": {},
     "output_type": "execute_result"
    }
   ],
   "source": [
    "# similar derivation of bias 2\n",
    "deriv_L_b2_left = 2 * w6 * (node_1_output * w5 + node_2_output * w6 + bias3 - true_value)\n",
    "deriv_L_b2_right = activation_ReLu_partial_derivative(input1 * w2 + input2 * w4 + bias2) * 1\n",
    "deriv_L_b2 = deriv_L_b2_left * deriv_L_b2_right\n",
    "new_b2 = bias2 - LR * deriv_L_b2\n",
    "new_b2"
   ]
  },
  {
   "cell_type": "markdown",
   "metadata": {},
   "source": [
    "<b>Everything should be okay now, let's compare the results</b>"
   ]
  },
  {
   "cell_type": "code",
   "execution_count": 116,
   "metadata": {},
   "outputs": [
    {
     "name": "stdout",
     "output_type": "stream",
     "text": [
      "ORIGINAL WEIGHTS AND BIASES\n",
      "w1: -0.2708094937040322\n",
      "w2: 0.8730296217823986\n",
      "w3: 0.375139189073187\n",
      "w4: -0.9925752441255713\n",
      "w5: -0.658763926510477\n",
      "w6: 0.8230405579609998\n",
      "b1: -0.8865132116250227\n",
      "b2: 0.06082385418349838\n",
      "b3: 0.7415708544156621\n",
      "\n",
      "\n",
      "######################################\n",
      "NEW WEIGHTS AND BIASES\n",
      "w1: -0.2708094937040322\n",
      "w2: 0.9133446058834015\n",
      "w3: 0.375139189073187\n",
      "w4: -0.9925752441255713\n",
      "w5: -0.658763926510477\n",
      "w6: 0.868783489669616\n",
      "b1: -0.8865132116250227\n",
      "b2: 0.10113883828450121\n",
      "b3: 0.7905538403828167\n"
     ]
    }
   ],
   "source": [
    "print(\"ORIGINAL WEIGHTS AND BIASES\")\n",
    "print(f\"w1: {w1}\")\n",
    "print(f\"w2: {w2}\")\n",
    "print(f\"w3: {w3}\")\n",
    "print(f\"w4: {w4}\")\n",
    "print(f\"w5: {w5}\")\n",
    "print(f\"w6: {w6}\")\n",
    "print(f\"b1: {bias1}\")\n",
    "print(f\"b2: {bias2}\")\n",
    "print(f\"b3: {bias3}\")\n",
    "\n",
    "print(\"\\n\\n######################################\")\n",
    "\n",
    "print(\"NEW WEIGHTS AND BIASES\")\n",
    "print(f\"w1: {new_w1}\")\n",
    "print(f\"w2: {new_w2}\")\n",
    "print(f\"w3: {new_w3}\")\n",
    "print(f\"w4: {new_w4}\")\n",
    "print(f\"w5: {new_w5}\")\n",
    "print(f\"w6: {new_w6}\")\n",
    "print(f\"b1: {new_b1}\")\n",
    "print(f\"b2: {new_b2}\")\n",
    "print(f\"b3: {new_b3}\")\n",
    "\n"
   ]
  },
  {
   "cell_type": "markdown",
   "metadata": {},
   "source": [
    "<b>Trying with new values and increased learning rate"
   ]
  },
  {
   "cell_type": "code",
   "execution_count": 117,
   "metadata": {},
   "outputs": [],
   "source": [
    "# initialize weights and biases\n",
    "# in Keras etc. these are usually randomized in the beginning\n",
    "w1 = new_w1\n",
    "w2 = new_w2\n",
    "w3 = new_w3\n",
    "w4 = new_w4\n",
    "w5 = new_w5\n",
    "w6 = new_w6\n",
    "bias1 = new_b1\n",
    "bias2 = new_b2\n",
    "bias3 = new_b3\n",
    "\n",
    "# our training data\n",
    "# x1 = input1, x2 = input2, y = true_value\n",
    "input1 = 1\n",
    "input2 = 0\n",
    "true_value = 2\n",
    "\n",
    "# our learning rate\n",
    "LR = 0.1"
   ]
  },
  {
   "cell_type": "markdown",
   "metadata": {},
   "source": [
    "<b>FORWARDS PASS"
   ]
  },
  {
   "cell_type": "code",
   "execution_count": 118,
   "metadata": {},
   "outputs": [
    {
     "data": {
      "text/plain": [
       "0"
      ]
     },
     "execution_count": 118,
     "metadata": {},
     "output_type": "execute_result"
    }
   ],
   "source": [
    "# NODE 1 OUTPUT\n",
    "node_1_output = input1 * w1 + input2 * w3 + bias1\n",
    "node_1_output = activation_ReLu(node_1_output)\n",
    "node_1_output"
   ]
  },
  {
   "cell_type": "code",
   "execution_count": 119,
   "metadata": {},
   "outputs": [
    {
     "data": {
      "text/plain": [
       "1.0144834441679027"
      ]
     },
     "execution_count": 119,
     "metadata": {},
     "output_type": "execute_result"
    }
   ],
   "source": [
    "# NODE 2 OUTPUT\n",
    "node_2_output = input1 * w2 + input2 * w4 + bias2\n",
    "node_2_output = activation_ReLu(node_2_output)\n",
    "node_2_output"
   ]
  },
  {
   "cell_type": "code",
   "execution_count": 120,
   "metadata": {},
   "outputs": [
    {
     "data": {
      "text/plain": [
       "1.6719203072190583"
      ]
     },
     "execution_count": 120,
     "metadata": {},
     "output_type": "execute_result"
    }
   ],
   "source": [
    "# NODE 3 OUTPUT\n",
    "# we can just use Node 1 and 2 outputs, since they\n",
    "# already contain the the previous weights\n",
    "node_3_output = node_1_output * w5 + node_2_output * w6 + bias3\n",
    "node_3_output = activation_ReLu(node_3_output)\n",
    "node_3_output"
   ]
  },
  {
   "cell_type": "code",
   "execution_count": 121,
   "metadata": {},
   "outputs": [
    {
     "name": "stdout",
     "output_type": "stream",
     "text": [
      "Predicted: 1.6719203072190583 --> True value: 2\n"
     ]
    }
   ],
   "source": [
    "# compare predicted value with true value\n",
    "print(f\"Predicted: {node_3_output} --> True value: {true_value}\")"
   ]
  },
  {
   "cell_type": "code",
   "execution_count": 122,
   "metadata": {},
   "outputs": [
    {
     "data": {
      "text/plain": [
       "0.10763628481523711"
      ]
     },
     "execution_count": 122,
     "metadata": {},
     "output_type": "execute_result"
    }
   ],
   "source": [
    "# LOSS FUNCTION - we are going to use MSE -> mean squared error\n",
    "# MSE formula LOSS => (predicted_value - true_value) ^ 2\n",
    "predicted_value = node_3_output\n",
    "loss = (predicted_value - true_value) ** 2\n",
    "loss"
   ]
  },
  {
   "cell_type": "markdown",
   "metadata": {},
   "source": [
    "<h3>BACKPROPAGATION - update the weights and biases while traversing the network BACKWARDS</h3>"
   ]
  },
  {
   "cell_type": "code",
   "execution_count": 123,
   "metadata": {},
   "outputs": [
    {
     "data": {
      "text/plain": [
       "-0.0"
      ]
     },
     "execution_count": 123,
     "metadata": {},
     "output_type": "execute_result"
    }
   ],
   "source": [
    "# solving the partial derivative of the loss function with respect to weight 5\n",
    "deriv_L_w5 = 2 * node_1_output * (node_1_output * w5 + node_2_output * w6 + bias3 - true_value)\n",
    "deriv_L_w5"
   ]
  },
  {
   "cell_type": "code",
   "execution_count": 124,
   "metadata": {},
   "outputs": [
    {
     "data": {
      "text/plain": [
       "-0.658763926510477"
      ]
     },
     "execution_count": 124,
     "metadata": {},
     "output_type": "execute_result"
    }
   ],
   "source": [
    "# this decreases the weight value a little bit\n",
    "# this is basically our optimizer + learning rate\n",
    "# this optimizer is known as gradient descent\n",
    "new_w5 = w5 - LR * deriv_L_w5\n",
    "new_w5"
   ]
  },
  {
   "cell_type": "code",
   "execution_count": 125,
   "metadata": {},
   "outputs": [
    {
     "data": {
      "text/plain": [
       "-0.6656628333879143"
      ]
     },
     "execution_count": 125,
     "metadata": {},
     "output_type": "execute_result"
    }
   ],
   "source": [
    "# solving the partial derivative of the loss function with respect to weight 6\n",
    "deriv_L_w6 = 2 * node_2_output * (node_1_output * w5 + node_2_output * w6 + bias3 - true_value)\n",
    "deriv_L_w6"
   ]
  },
  {
   "cell_type": "code",
   "execution_count": 126,
   "metadata": {},
   "outputs": [
    {
     "data": {
      "text/plain": [
       "0.9353497730084075"
      ]
     },
     "execution_count": 126,
     "metadata": {},
     "output_type": "execute_result"
    }
   ],
   "source": [
    "# calculate new value for weight 6\n",
    "new_w6 = w6 - LR * deriv_L_w6\n",
    "new_w6"
   ]
  },
  {
   "cell_type": "code",
   "execution_count": 127,
   "metadata": {},
   "outputs": [
    {
     "data": {
      "text/plain": [
       "-0.6561593855618835"
      ]
     },
     "execution_count": 127,
     "metadata": {},
     "output_type": "execute_result"
    }
   ],
   "source": [
    "# solving the partial derivative of the loss function with respect to bias3\n",
    "# NOTE: the * 1 comes from derivating the bias, which is same as derivating x, \n",
    "# which result in 1\n",
    "deriv_L_b3 = 2 * 1 * (node_1_output * w5 + node_2_output * w6 + bias3 - true_value)\n",
    "deriv_L_b3"
   ]
  },
  {
   "cell_type": "code",
   "execution_count": 128,
   "metadata": {},
   "outputs": [
    {
     "data": {
      "text/plain": [
       "0.856169778939005"
      ]
     },
     "execution_count": 128,
     "metadata": {},
     "output_type": "execute_result"
    }
   ],
   "source": [
    "# update the bias 3 based on previous derivation\n",
    "new_b3 = bias3 - LR * deriv_L_b3\n",
    "new_b3"
   ]
  },
  {
   "cell_type": "markdown",
   "metadata": {},
   "source": [
    "<b>To access the first layer, we need to use chain rule, in order to calculate new values for w1-w4 and bias1/2</b>"
   ]
  },
  {
   "cell_type": "code",
   "execution_count": 129,
   "metadata": {},
   "outputs": [
    {
     "data": {
      "text/plain": [
       "-0.2708094937040322"
      ]
     },
     "execution_count": 129,
     "metadata": {},
     "output_type": "execute_result"
    }
   ],
   "source": [
    "# see materials for how we need to split this calculation into two parts\n",
    "# here we solve the left and right sides separately\n",
    "\n",
    "# left side is mostly the same as derivating w5 and w6\n",
    "deriv_L_w1_left = 2 * w5 * (node_1_output * w5 + node_2_output * w6 + bias3 - true_value)\n",
    "\n",
    "# right side: use ReLu derivation and remember to match correct weights with correct inputs and biases\n",
    "# based on which weight are you are derivating\n",
    "# COMPARE THE OTHER ORIGINAL PICTURE IN THE MATERIALS\n",
    "# in the case of w1 => use w1 and and w3 inside the Relu-derivation, because\n",
    "# these weights are connected to node 1 (which is connected to w1)\n",
    "# also use bias1, since it's part of node 1\n",
    "# finally, multiply all with input1, because it is connected to w1\n",
    "deriv_L_w1_right = activation_ReLu_partial_derivative(input1 * w1 + input2 * w3 + bias1) * input1\n",
    "deriv_L_w1 = deriv_L_w1_left * deriv_L_w1_right\n",
    "new_w1 = w1 - LR * deriv_L_w1\n",
    "new_w1"
   ]
  },
  {
   "cell_type": "code",
   "execution_count": 130,
   "metadata": {},
   "outputs": [
    {
     "data": {
      "text/plain": [
       "0.9703506499601939"
      ]
     },
     "execution_count": 130,
     "metadata": {},
     "output_type": "execute_result"
    }
   ],
   "source": [
    "# use the same logic as above, but now from the point of view of w2\n",
    "# notice how we use w6 and w2/w4 and bias2 in the equation of right side\n",
    "deriv_L_w2_left = 2 * w6 * (node_1_output * w5 + node_2_output * w6 + bias3 - true_value)\n",
    "deriv_L_w2_right = activation_ReLu_partial_derivative(input1 * w2 + input2 * w4 + bias2) * input1\n",
    "deriv_L_w2 = deriv_L_w2_left * deriv_L_w2_right\n",
    "new_w2 = w2 - LR * deriv_L_w2\n",
    "new_w2"
   ]
  },
  {
   "cell_type": "code",
   "execution_count": 131,
   "metadata": {},
   "outputs": [
    {
     "data": {
      "text/plain": [
       "0.375139189073187"
      ]
     },
     "execution_count": 131,
     "metadata": {},
     "output_type": "execute_result"
    }
   ],
   "source": [
    "# use the same formula again\n",
    "deriv_L_w3_left = 2 * w5 * (node_1_output * w5 + node_2_output * w6 + bias3 - true_value)\n",
    "deriv_L_w3_right = activation_ReLu_partial_derivative(input1 * w1 + input2 * w3 + bias1) * input2\n",
    "deriv_L_w3 = deriv_L_w3_left * deriv_L_w3_right\n",
    "new_w3 = w3 - LR * deriv_L_w3\n",
    "new_w3"
   ]
  },
  {
   "cell_type": "code",
   "execution_count": 132,
   "metadata": {},
   "outputs": [
    {
     "data": {
      "text/plain": [
       "-0.9925752441255713"
      ]
     },
     "execution_count": 132,
     "metadata": {},
     "output_type": "execute_result"
    }
   ],
   "source": [
    "# use the same formula again\n",
    "deriv_L_w4_left = 2 * w6 * (node_1_output * w5 + node_2_output * w6 + bias3 - true_value)\n",
    "deriv_L_w4_right = activation_ReLu_partial_derivative(input1 * w2 + input2 * w4 + bias2) * input2\n",
    "deriv_L_w4 = deriv_L_w4_left * deriv_L_w4_right\n",
    "new_w4 = w4 - LR * deriv_L_w4\n",
    "new_w4"
   ]
  },
  {
   "cell_type": "code",
   "execution_count": 133,
   "metadata": {},
   "outputs": [
    {
     "data": {
      "text/plain": [
       "-0.8865132116250227"
      ]
     },
     "execution_count": 133,
     "metadata": {},
     "output_type": "execute_result"
    }
   ],
   "source": [
    "# otherwise the same formula, but we can multiply the right side function with just 1\n",
    "# because it's a derivation of bias-term, which is the same as derivation of x, which results in 1\n",
    "deriv_L_b1_left = 2 * w5 * (node_1_output * w5 + node_2_output * w6 + bias3 - true_value)\n",
    "deriv_L_b1_right = activation_ReLu_partial_derivative(input1 * w1 + input2 * w3 + bias1) * 1\n",
    "deriv_L_b1 = deriv_L_b1_left * deriv_L_b1_right\n",
    "new_b1 = bias1 - LR * deriv_L_b1\n",
    "new_b1"
   ]
  },
  {
   "cell_type": "code",
   "execution_count": 134,
   "metadata": {},
   "outputs": [
    {
     "data": {
      "text/plain": [
       "0.15814488236129362"
      ]
     },
     "execution_count": 134,
     "metadata": {},
     "output_type": "execute_result"
    }
   ],
   "source": [
    "# similar derivation of bias 2\n",
    "deriv_L_b2_left = 2 * w6 * (node_1_output * w5 + node_2_output * w6 + bias3 - true_value)\n",
    "deriv_L_b2_right = activation_ReLu_partial_derivative(input1 * w2 + input2 * w4 + bias2) * 1\n",
    "deriv_L_b2 = deriv_L_b2_left * deriv_L_b2_right\n",
    "new_b2 = bias2 - LR * deriv_L_b2\n",
    "new_b2"
   ]
  },
  {
   "cell_type": "markdown",
   "metadata": {},
   "source": [
    "<b>Everything should be okay now, let's compare the results</b>"
   ]
  },
  {
   "cell_type": "code",
   "execution_count": 135,
   "metadata": {},
   "outputs": [
    {
     "name": "stdout",
     "output_type": "stream",
     "text": [
      "ORIGINAL WEIGHTS AND BIASES\n",
      "w1: -0.2708094937040322\n",
      "w2: 0.9133446058834015\n",
      "w3: 0.375139189073187\n",
      "w4: -0.9925752441255713\n",
      "w5: -0.658763926510477\n",
      "w6: 0.868783489669616\n",
      "b1: -0.8865132116250227\n",
      "b2: 0.10113883828450121\n",
      "b3: 0.7905538403828167\n",
      "\n",
      "\n",
      "######################################\n",
      "NEW WEIGHTS AND BIASES\n",
      "w1: -0.2708094937040322\n",
      "w2: 0.9703506499601939\n",
      "w3: 0.375139189073187\n",
      "w4: -0.9925752441255713\n",
      "w5: -0.658763926510477\n",
      "w6: 0.9353497730084075\n",
      "b1: -0.8865132116250227\n",
      "b2: 0.15814488236129362\n",
      "b3: 0.856169778939005\n"
     ]
    }
   ],
   "source": [
    "print(\"ORIGINAL WEIGHTS AND BIASES\")\n",
    "print(f\"w1: {w1}\")\n",
    "print(f\"w2: {w2}\")\n",
    "print(f\"w3: {w3}\")\n",
    "print(f\"w4: {w4}\")\n",
    "print(f\"w5: {w5}\")\n",
    "print(f\"w6: {w6}\")\n",
    "print(f\"b1: {bias1}\")\n",
    "print(f\"b2: {bias2}\")\n",
    "print(f\"b3: {bias3}\")\n",
    "\n",
    "print(\"\\n\\n######################################\")\n",
    "\n",
    "print(\"NEW WEIGHTS AND BIASES\")\n",
    "print(f\"w1: {new_w1}\")\n",
    "print(f\"w2: {new_w2}\")\n",
    "print(f\"w3: {new_w3}\")\n",
    "print(f\"w4: {new_w4}\")\n",
    "print(f\"w5: {new_w5}\")\n",
    "print(f\"w6: {new_w6}\")\n",
    "print(f\"b1: {new_b1}\")\n",
    "print(f\"b2: {new_b2}\")\n",
    "print(f\"b3: {new_b3}\")\n",
    "\n"
   ]
  },
  {
   "cell_type": "markdown",
   "metadata": {},
   "source": [
    "<b>Trying with new values and increased learning rate"
   ]
  },
  {
   "cell_type": "code",
   "execution_count": 136,
   "metadata": {},
   "outputs": [],
   "source": [
    "# initialize weights and biases\n",
    "# in Keras etc. these are usually randomized in the beginning\n",
    "w1 = new_w1\n",
    "w2 = new_w2\n",
    "w3 = new_w3\n",
    "w4 = new_w4\n",
    "w5 = new_w5\n",
    "w6 = new_w6\n",
    "bias1 = new_b1\n",
    "bias2 = new_b2\n",
    "bias3 = new_b3\n",
    "\n",
    "# our training data\n",
    "# x1 = input1, x2 = input2, y = true_value\n",
    "input1 = 1\n",
    "input2 = 0\n",
    "true_value = 2\n",
    "\n",
    "# our learning rate\n",
    "LR = 0.2"
   ]
  },
  {
   "cell_type": "markdown",
   "metadata": {},
   "source": [
    "<b>FORWARDS PASS"
   ]
  },
  {
   "cell_type": "code",
   "execution_count": 137,
   "metadata": {},
   "outputs": [
    {
     "data": {
      "text/plain": [
       "0"
      ]
     },
     "execution_count": 137,
     "metadata": {},
     "output_type": "execute_result"
    }
   ],
   "source": [
    "# NODE 1 OUTPUT\n",
    "node_1_output = input1 * w1 + input2 * w3 + bias1\n",
    "node_1_output = activation_ReLu(node_1_output)\n",
    "node_1_output"
   ]
  },
  {
   "cell_type": "code",
   "execution_count": 138,
   "metadata": {},
   "outputs": [
    {
     "data": {
      "text/plain": [
       "1.1284955323214876"
      ]
     },
     "execution_count": 138,
     "metadata": {},
     "output_type": "execute_result"
    }
   ],
   "source": [
    "# NODE 2 OUTPUT\n",
    "node_2_output = input1 * w2 + input2 * w4 + bias2\n",
    "node_2_output = activation_ReLu(node_2_output)\n",
    "node_2_output"
   ]
  },
  {
   "cell_type": "code",
   "execution_count": 139,
   "metadata": {},
   "outputs": [
    {
     "data": {
      "text/plain": [
       "1.9117078189369103"
      ]
     },
     "execution_count": 139,
     "metadata": {},
     "output_type": "execute_result"
    }
   ],
   "source": [
    "# NODE 3 OUTPUT\n",
    "# we can just use Node 1 and 2 outputs, since they\n",
    "# already contain the the previous weights\n",
    "node_3_output = node_1_output * w5 + node_2_output * w6 + bias3\n",
    "node_3_output = activation_ReLu(node_3_output)\n",
    "node_3_output"
   ]
  },
  {
   "cell_type": "code",
   "execution_count": 140,
   "metadata": {},
   "outputs": [
    {
     "name": "stdout",
     "output_type": "stream",
     "text": [
      "Predicted: 1.9117078189369103 --> True value: 2\n"
     ]
    }
   ],
   "source": [
    "# compare predicted value with true value\n",
    "print(f\"Predicted: {node_3_output} --> True value: {true_value}\")"
   ]
  },
  {
   "cell_type": "code",
   "execution_count": 141,
   "metadata": {},
   "outputs": [
    {
     "data": {
      "text/plain": [
       "0.00779550923687741"
      ]
     },
     "execution_count": 141,
     "metadata": {},
     "output_type": "execute_result"
    }
   ],
   "source": [
    "# LOSS FUNCTION - we are going to use MSE -> mean squared error\n",
    "# MSE formula LOSS => (predicted_value - true_value) ^ 2\n",
    "predicted_value = node_3_output\n",
    "loss = (predicted_value - true_value) ** 2\n",
    "loss"
   ]
  },
  {
   "cell_type": "markdown",
   "metadata": {},
   "source": [
    "<h3>BACKPROPAGATION - update the weights and biases while traversing the network BACKWARDS</h3>"
   ]
  },
  {
   "cell_type": "code",
   "execution_count": 142,
   "metadata": {},
   "outputs": [
    {
     "data": {
      "text/plain": [
       "-0.0"
      ]
     },
     "execution_count": 142,
     "metadata": {},
     "output_type": "execute_result"
    }
   ],
   "source": [
    "# solving the partial derivative of the loss function with respect to weight 5\n",
    "deriv_L_w5 = 2 * node_1_output * (node_1_output * w5 + node_2_output * w6 + bias3 - true_value)\n",
    "deriv_L_w5"
   ]
  },
  {
   "cell_type": "code",
   "execution_count": 143,
   "metadata": {},
   "outputs": [
    {
     "data": {
      "text/plain": [
       "-0.658763926510477"
      ]
     },
     "execution_count": 143,
     "metadata": {},
     "output_type": "execute_result"
    }
   ],
   "source": [
    "# this decreases the weight value a little bit\n",
    "# this is basically our optimizer + learning rate\n",
    "# this optimizer is known as gradient descent\n",
    "new_w5 = w5 - LR * deriv_L_w5\n",
    "new_w5"
   ]
  },
  {
   "cell_type": "code",
   "execution_count": 144,
   "metadata": {},
   "outputs": [
    {
     "data": {
      "text/plain": [
       "-0.19927466373723307"
      ]
     },
     "execution_count": 144,
     "metadata": {},
     "output_type": "execute_result"
    }
   ],
   "source": [
    "# solving the partial derivative of the loss function with respect to weight 6\n",
    "deriv_L_w6 = 2 * node_2_output * (node_1_output * w5 + node_2_output * w6 + bias3 - true_value)\n",
    "deriv_L_w6"
   ]
  },
  {
   "cell_type": "code",
   "execution_count": 145,
   "metadata": {},
   "outputs": [
    {
     "data": {
      "text/plain": [
       "0.9752047057558542"
      ]
     },
     "execution_count": 145,
     "metadata": {},
     "output_type": "execute_result"
    }
   ],
   "source": [
    "# calculate new value for weight 6\n",
    "new_w6 = w6 - LR * deriv_L_w6\n",
    "new_w6"
   ]
  },
  {
   "cell_type": "code",
   "execution_count": 146,
   "metadata": {},
   "outputs": [
    {
     "data": {
      "text/plain": [
       "-0.17658436212617934"
      ]
     },
     "execution_count": 146,
     "metadata": {},
     "output_type": "execute_result"
    }
   ],
   "source": [
    "# solving the partial derivative of the loss function with respect to bias3\n",
    "# NOTE: the * 1 comes from derivating the bias, which is same as derivating x, \n",
    "# which result in 1\n",
    "deriv_L_b3 = 2 * 1 * (node_1_output * w5 + node_2_output * w6 + bias3 - true_value)\n",
    "deriv_L_b3"
   ]
  },
  {
   "cell_type": "code",
   "execution_count": 147,
   "metadata": {},
   "outputs": [
    {
     "data": {
      "text/plain": [
       "0.8914866513642409"
      ]
     },
     "execution_count": 147,
     "metadata": {},
     "output_type": "execute_result"
    }
   ],
   "source": [
    "# update the bias 3 based on previous derivation\n",
    "new_b3 = bias3 - LR * deriv_L_b3\n",
    "new_b3"
   ]
  },
  {
   "cell_type": "markdown",
   "metadata": {},
   "source": [
    "<b>To access the first layer, we need to use chain rule, in order to calculate new values for w1-w4 and bias1/2</b>"
   ]
  },
  {
   "cell_type": "code",
   "execution_count": 148,
   "metadata": {},
   "outputs": [
    {
     "data": {
      "text/plain": [
       "-0.2708094937040322"
      ]
     },
     "execution_count": 148,
     "metadata": {},
     "output_type": "execute_result"
    }
   ],
   "source": [
    "# see materials for how we need to split this calculation into two parts\n",
    "# here we solve the left and right sides separately\n",
    "\n",
    "# left side is mostly the same as derivating w5 and w6\n",
    "deriv_L_w1_left = 2 * w5 * (node_1_output * w5 + node_2_output * w6 + bias3 - true_value)\n",
    "\n",
    "# right side: use ReLu derivation and remember to match correct weights with correct inputs and biases\n",
    "# based on which weight are you are derivating\n",
    "# COMPARE THE OTHER ORIGINAL PICTURE IN THE MATERIALS\n",
    "# in the case of w1 => use w1 and and w3 inside the Relu-derivation, because\n",
    "# these weights are connected to node 1 (which is connected to w1)\n",
    "# also use bias1, since it's part of node 1\n",
    "# finally, multiply all with input1, because it is connected to w1\n",
    "deriv_L_w1_right = activation_ReLu_partial_derivative(input1 * w1 + input2 * w3 + bias1) * input1\n",
    "deriv_L_w1 = deriv_L_w1_left * deriv_L_w1_right\n",
    "new_w1 = w1 - LR * deriv_L_w1\n",
    "new_w1"
   ]
  },
  {
   "cell_type": "code",
   "execution_count": 149,
   "metadata": {},
   "outputs": [
    {
     "data": {
      "text/plain": [
       "1.0033842785665052"
      ]
     },
     "execution_count": 149,
     "metadata": {},
     "output_type": "execute_result"
    }
   ],
   "source": [
    "# use the same logic as above, but now from the point of view of w2\n",
    "# notice how we use w6 and w2/w4 and bias2 in the equation of right side\n",
    "deriv_L_w2_left = 2 * w6 * (node_1_output * w5 + node_2_output * w6 + bias3 - true_value)\n",
    "deriv_L_w2_right = activation_ReLu_partial_derivative(input1 * w2 + input2 * w4 + bias2) * input1\n",
    "deriv_L_w2 = deriv_L_w2_left * deriv_L_w2_right\n",
    "new_w2 = w2 - LR * deriv_L_w2\n",
    "new_w2"
   ]
  },
  {
   "cell_type": "code",
   "execution_count": 150,
   "metadata": {},
   "outputs": [
    {
     "data": {
      "text/plain": [
       "0.375139189073187"
      ]
     },
     "execution_count": 150,
     "metadata": {},
     "output_type": "execute_result"
    }
   ],
   "source": [
    "# use the same formula again\n",
    "deriv_L_w3_left = 2 * w5 * (node_1_output * w5 + node_2_output * w6 + bias3 - true_value)\n",
    "deriv_L_w3_right = activation_ReLu_partial_derivative(input1 * w1 + input2 * w3 + bias1) * input2\n",
    "deriv_L_w3 = deriv_L_w3_left * deriv_L_w3_right\n",
    "new_w3 = w3 - LR * deriv_L_w3\n",
    "new_w3"
   ]
  },
  {
   "cell_type": "code",
   "execution_count": 151,
   "metadata": {},
   "outputs": [
    {
     "data": {
      "text/plain": [
       "-0.9925752441255713"
      ]
     },
     "execution_count": 151,
     "metadata": {},
     "output_type": "execute_result"
    }
   ],
   "source": [
    "# use the same formula again\n",
    "deriv_L_w4_left = 2 * w6 * (node_1_output * w5 + node_2_output * w6 + bias3 - true_value)\n",
    "deriv_L_w4_right = activation_ReLu_partial_derivative(input1 * w2 + input2 * w4 + bias2) * input2\n",
    "deriv_L_w4 = deriv_L_w4_left * deriv_L_w4_right\n",
    "new_w4 = w4 - LR * deriv_L_w4\n",
    "new_w4"
   ]
  },
  {
   "cell_type": "code",
   "execution_count": 152,
   "metadata": {},
   "outputs": [
    {
     "data": {
      "text/plain": [
       "-0.8865132116250227"
      ]
     },
     "execution_count": 152,
     "metadata": {},
     "output_type": "execute_result"
    }
   ],
   "source": [
    "# otherwise the same formula, but we can multiply the right side function with just 1\n",
    "# because it's a derivation of bias-term, which is the same as derivation of x, which results in 1\n",
    "deriv_L_b1_left = 2 * w5 * (node_1_output * w5 + node_2_output * w6 + bias3 - true_value)\n",
    "deriv_L_b1_right = activation_ReLu_partial_derivative(input1 * w1 + input2 * w3 + bias1) * 1\n",
    "deriv_L_b1 = deriv_L_b1_left * deriv_L_b1_right\n",
    "new_b1 = bias1 - LR * deriv_L_b1\n",
    "new_b1"
   ]
  },
  {
   "cell_type": "code",
   "execution_count": 153,
   "metadata": {},
   "outputs": [
    {
     "data": {
      "text/plain": [
       "0.19117851096760488"
      ]
     },
     "execution_count": 153,
     "metadata": {},
     "output_type": "execute_result"
    }
   ],
   "source": [
    "# similar derivation of bias 2\n",
    "deriv_L_b2_left = 2 * w6 * (node_1_output * w5 + node_2_output * w6 + bias3 - true_value)\n",
    "deriv_L_b2_right = activation_ReLu_partial_derivative(input1 * w2 + input2 * w4 + bias2) * 1\n",
    "deriv_L_b2 = deriv_L_b2_left * deriv_L_b2_right\n",
    "new_b2 = bias2 - LR * deriv_L_b2\n",
    "new_b2"
   ]
  },
  {
   "cell_type": "markdown",
   "metadata": {},
   "source": [
    "<b>Everything should be okay now, let's compare the results</b>"
   ]
  },
  {
   "cell_type": "code",
   "execution_count": 154,
   "metadata": {},
   "outputs": [
    {
     "name": "stdout",
     "output_type": "stream",
     "text": [
      "ORIGINAL WEIGHTS AND BIASES\n",
      "w1: -0.2708094937040322\n",
      "w2: 0.9703506499601939\n",
      "w3: 0.375139189073187\n",
      "w4: -0.9925752441255713\n",
      "w5: -0.658763926510477\n",
      "w6: 0.9353497730084075\n",
      "b1: -0.8865132116250227\n",
      "b2: 0.15814488236129362\n",
      "b3: 0.856169778939005\n",
      "\n",
      "\n",
      "######################################\n",
      "NEW WEIGHTS AND BIASES\n",
      "w1: -0.2708094937040322\n",
      "w2: 1.0033842785665052\n",
      "w3: 0.375139189073187\n",
      "w4: -0.9925752441255713\n",
      "w5: -0.658763926510477\n",
      "w6: 0.9752047057558542\n",
      "b1: -0.8865132116250227\n",
      "b2: 0.19117851096760488\n",
      "b3: 0.8914866513642409\n"
     ]
    }
   ],
   "source": [
    "print(\"ORIGINAL WEIGHTS AND BIASES\")\n",
    "print(f\"w1: {w1}\")\n",
    "print(f\"w2: {w2}\")\n",
    "print(f\"w3: {w3}\")\n",
    "print(f\"w4: {w4}\")\n",
    "print(f\"w5: {w5}\")\n",
    "print(f\"w6: {w6}\")\n",
    "print(f\"b1: {bias1}\")\n",
    "print(f\"b2: {bias2}\")\n",
    "print(f\"b3: {bias3}\")\n",
    "\n",
    "print(\"\\n\\n######################################\")\n",
    "\n",
    "print(\"NEW WEIGHTS AND BIASES\")\n",
    "print(f\"w1: {new_w1}\")\n",
    "print(f\"w2: {new_w2}\")\n",
    "print(f\"w3: {new_w3}\")\n",
    "print(f\"w4: {new_w4}\")\n",
    "print(f\"w5: {new_w5}\")\n",
    "print(f\"w6: {new_w6}\")\n",
    "print(f\"b1: {new_b1}\")\n",
    "print(f\"b2: {new_b2}\")\n",
    "print(f\"b3: {new_b3}\")\n",
    "\n"
   ]
  },
  {
   "cell_type": "code",
   "execution_count": null,
   "metadata": {},
   "outputs": [],
   "source": []
  }
 ],
 "metadata": {
  "kernelspec": {
   "display_name": ".venv",
   "language": "python",
   "name": "python3"
  },
  "language_info": {
   "codemirror_mode": {
    "name": "ipython",
    "version": 3
   },
   "file_extension": ".py",
   "mimetype": "text/x-python",
   "name": "python",
   "nbconvert_exporter": "python",
   "pygments_lexer": "ipython3",
   "version": "3.10.11"
  }
 },
 "nbformat": 4,
 "nbformat_minor": 2
}
