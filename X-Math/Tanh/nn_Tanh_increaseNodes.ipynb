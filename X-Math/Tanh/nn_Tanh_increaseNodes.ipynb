{
 "cells": [
  {
   "cell_type": "markdown",
   "metadata": {},
   "source": [
    "<h3>Neural network, math experimentation</h3>"
   ]
  },
  {
   "cell_type": "code",
   "execution_count": 1,
   "metadata": {},
   "outputs": [],
   "source": [
    "import math\n",
    "\n",
    "# activation functions\n",
    "# ReLu is very simple, it filters out all negative numbers\n",
    "# this is a powerful activation function in reality\n",
    "def activation_ReLu(x):\n",
    "    return math.tanh(x)\n",
    "    \n",
    "# we also need a derived version of ReLu later\n",
    "# otherwise the same than original, but instead of original value\n",
    "# return 1 instead\n",
    "def activation_ReLu_partial_derivative(x):\n",
    "    return 1 - math.tanh(x)**2"
   ]
  },
  {
   "cell_type": "code",
   "execution_count": 2,
   "metadata": {},
   "outputs": [],
   "source": [
    "# initialize weights and biases\n",
    "# in Keras etc. these are usually randomized in the beginning\n",
    "w1 = 1\n",
    "w2 = 0.5\n",
    "w3 = 1\n",
    "w4 = -0.5\n",
    "w5 = 1\n",
    "w6 = 1\n",
    "w7 = 0\n",
    "w8 = 1\n",
    "w9 = 0.5\n",
    "bias1 = 0.5\n",
    "bias2 = 0\n",
    "bias3 = 0.5\n",
    "bias4 = 0.5\n",
    "\n",
    "# our training data\n",
    "# x1 = input1, x2 = input2, y = true_value\n",
    "input1 = 1\n",
    "input2 = 0\n",
    "true_value = 2\n",
    "\n",
    "# our learning rate\n",
    "LR = 0.01"
   ]
  },
  {
   "cell_type": "markdown",
   "metadata": {},
   "source": [
    "<b>FORWARD PASS</b>"
   ]
  },
  {
   "cell_type": "code",
   "execution_count": 3,
   "metadata": {},
   "outputs": [
    {
     "data": {
      "text/plain": [
       "0.9051482536448664"
      ]
     },
     "execution_count": 3,
     "metadata": {},
     "output_type": "execute_result"
    }
   ],
   "source": [
    "# NODE 1 OUTPUT\n",
    "node_1_output = input1 * w1 + input2 * w4 + bias1\n",
    "node_1_output = activation_ReLu(node_1_output)\n",
    "node_1_output"
   ]
  },
  {
   "cell_type": "code",
   "execution_count": 4,
   "metadata": {},
   "outputs": [
    {
     "data": {
      "text/plain": [
       "0.46211715726000974"
      ]
     },
     "execution_count": 4,
     "metadata": {},
     "output_type": "execute_result"
    }
   ],
   "source": [
    "# NODE 2 OUTPUT\n",
    "node_2_output = input1 * w2 + input2 * w5 + bias2\n",
    "node_2_output = activation_ReLu(node_2_output)\n",
    "node_2_output"
   ]
  },
  {
   "cell_type": "code",
   "execution_count": 5,
   "metadata": {},
   "outputs": [
    {
     "data": {
      "text/plain": [
       "0.9051482536448664"
      ]
     },
     "execution_count": 5,
     "metadata": {},
     "output_type": "execute_result"
    }
   ],
   "source": [
    "node_3_output = input1 * w3 + input2 * w6 + bias3\n",
    "node_3_output = activation_ReLu(node_3_output)\n",
    "node_3_output"
   ]
  },
  {
   "cell_type": "code",
   "execution_count": 6,
   "metadata": {},
   "outputs": [
    {
     "data": {
      "text/plain": [
       "0.8884862087905133"
      ]
     },
     "execution_count": 6,
     "metadata": {},
     "output_type": "execute_result"
    }
   ],
   "source": [
    "# NODE 3 OUTPUT\n",
    "# we can just use Node 1 and 2 outputs, since they\n",
    "# already contain the the previous weights\n",
    "node_4_output = node_1_output * w7 + node_2_output * w8 + node_3_output * w9 + bias3\n",
    "node_4_output = activation_ReLu(node_4_output)\n",
    "node_4_output"
   ]
  },
  {
   "cell_type": "code",
   "execution_count": 7,
   "metadata": {},
   "outputs": [
    {
     "name": "stdout",
     "output_type": "stream",
     "text": [
      "Predicted: 0.8884862087905133 --> True value: 2\n"
     ]
    }
   ],
   "source": [
    "# compare predicted value with true value\n",
    "print(f\"Predicted: {node_4_output} --> True value: {true_value}\")"
   ]
  },
  {
   "cell_type": "code",
   "execution_count": 8,
   "metadata": {},
   "outputs": [
    {
     "data": {
      "text/plain": [
       "1.2354629080488866"
      ]
     },
     "execution_count": 8,
     "metadata": {},
     "output_type": "execute_result"
    }
   ],
   "source": [
    "# LOSS FUNCTION - we are going to use MSE -> mean squared error\n",
    "# MSE formula LOSS => (predicted_value - true_value) ^ 2\n",
    "predicted_value = node_4_output\n",
    "loss = (predicted_value - true_value) ** 2\n",
    "loss"
   ]
  },
  {
   "cell_type": "markdown",
   "metadata": {},
   "source": [
    "<h3>BACKPROPAGATION - update the weights and biases while traversing the network BACKWARDS</h3>"
   ]
  },
  {
   "cell_type": "code",
   "execution_count": 9,
   "metadata": {},
   "outputs": [
    {
     "data": {
      "text/plain": [
       "-1.059582324111792"
      ]
     },
     "execution_count": 9,
     "metadata": {},
     "output_type": "execute_result"
    }
   ],
   "source": [
    "# solving the partial derivative of the loss function with respect to weight 5\n",
    "deriv_L_w7 = 2 * node_1_output * (node_1_output * w7 + node_2_output * w8 + node_3_output * w9 + bias4 - true_value)\n",
    "deriv_L_w7"
   ]
  },
  {
   "cell_type": "code",
   "execution_count": 10,
   "metadata": {},
   "outputs": [
    {
     "data": {
      "text/plain": [
       "0.010595823241117922"
      ]
     },
     "execution_count": 10,
     "metadata": {},
     "output_type": "execute_result"
    }
   ],
   "source": [
    "# this decreases the weight value a little bit\n",
    "# this is basically our optimizer + learning rate\n",
    "# this optimizer is known as gradient descent\n",
    "new_w7 = w7 - LR * deriv_L_w7\n",
    "new_w7"
   ]
  },
  {
   "cell_type": "code",
   "execution_count": 11,
   "metadata": {},
   "outputs": [
    {
     "data": {
      "text/plain": [
       "-0.5409623998386562"
      ]
     },
     "execution_count": 11,
     "metadata": {},
     "output_type": "execute_result"
    }
   ],
   "source": [
    "# solving the partial derivative of the loss function with respect to weight 6\n",
    "deriv_L_w8 = 2 * node_2_output * (node_1_output * w7 + node_2_output * w8 + node_3_output * w9 + bias4 - true_value)\n",
    "deriv_L_w8"
   ]
  },
  {
   "cell_type": "code",
   "execution_count": 12,
   "metadata": {},
   "outputs": [
    {
     "data": {
      "text/plain": [
       "1.0054096239983865"
      ]
     },
     "execution_count": 12,
     "metadata": {},
     "output_type": "execute_result"
    }
   ],
   "source": [
    "# calculate new value for weight 6\n",
    "new_w8 = w8 - LR * deriv_L_w8\n",
    "new_w8"
   ]
  },
  {
   "cell_type": "code",
   "execution_count": 13,
   "metadata": {},
   "outputs": [
    {
     "data": {
      "text/plain": [
       "-1.059582324111792"
      ]
     },
     "execution_count": 13,
     "metadata": {},
     "output_type": "execute_result"
    }
   ],
   "source": [
    "# solving the partial derivative of the loss function with respect to weight 6\n",
    "deriv_L_w9 = 2 * node_3_output * (node_1_output * w7 + node_2_output * w8 + node_3_output * w9 + bias4 - true_value)\n",
    "deriv_L_w9"
   ]
  },
  {
   "cell_type": "code",
   "execution_count": 14,
   "metadata": {},
   "outputs": [
    {
     "data": {
      "text/plain": [
       "0.510595823241118"
      ]
     },
     "execution_count": 14,
     "metadata": {},
     "output_type": "execute_result"
    }
   ],
   "source": [
    "# calculate new value for weight 6\n",
    "new_w9 = w9 - LR * deriv_L_w9\n",
    "new_w9"
   ]
  },
  {
   "cell_type": "code",
   "execution_count": 15,
   "metadata": {},
   "outputs": [
    {
     "data": {
      "text/plain": [
       "-1.1706174318351144"
      ]
     },
     "execution_count": 15,
     "metadata": {},
     "output_type": "execute_result"
    }
   ],
   "source": [
    "# solving the partial derivative of the loss function with respect to bias3\n",
    "# NOTE: the * 1 comes from derivating the bias, which is same as derivating x, \n",
    "# which result in 1\n",
    "deriv_L_b4 = 2 * 1 * (node_1_output * w7 + node_2_output * w8 + node_3_output * w9 + bias4 - true_value)\n",
    "deriv_L_b4"
   ]
  },
  {
   "cell_type": "code",
   "execution_count": 16,
   "metadata": {},
   "outputs": [
    {
     "data": {
      "text/plain": [
       "0.5117061743183512"
      ]
     },
     "execution_count": 16,
     "metadata": {},
     "output_type": "execute_result"
    }
   ],
   "source": [
    "# update the bias 3 based on previous derivation\n",
    "new_b4 = bias4 - LR * deriv_L_b4\n",
    "new_b4"
   ]
  },
  {
   "cell_type": "markdown",
   "metadata": {},
   "source": [
    "<b>To access the first layer, we need to use chain rule, in order to calculate new values for w1-w4 and bias1/2</b>"
   ]
  },
  {
   "cell_type": "code",
   "execution_count": 17,
   "metadata": {},
   "outputs": [
    {
     "data": {
      "text/plain": [
       "1.0"
      ]
     },
     "execution_count": 17,
     "metadata": {},
     "output_type": "execute_result"
    }
   ],
   "source": [
    "# see materials for how we need to split this calculation into two parts\n",
    "# here we solve the left and right sides separately\n",
    "\n",
    "# left side is mostly the same as derivating w5 and w6\n",
    "deriv_L_w1_left = 2 * w7* (node_1_output * w7 + node_2_output * w8 + node_3_output * w9 + bias4- true_value)\n",
    "\n",
    "# right side: use ReLu derivation and remember to match correct weights with correct inputs and biases\n",
    "# based on which weight are you are derivating\n",
    "# COMPARE THE OTHER ORIGINAL PICTURE IN THE MATERIALS\n",
    "# in the case of w1 => use w1 and and w3 inside the Relu-derivation, because\n",
    "# these weights are connected to node 1 (which is connected to w1)\n",
    "# also use bias1, since it's part of node 1\n",
    "# finally, multiply all with input1, because it is connected to w1\n",
    "deriv_L_w1_right = activation_ReLu_partial_derivative(input1 * w1 + input2 * w4 + bias1) * input1\n",
    "deriv_L_w1 = deriv_L_w1_left * deriv_L_w1_right\n",
    "new_w1 = w1 - LR * deriv_L_w1\n",
    "new_w1"
   ]
  },
  {
   "cell_type": "code",
   "execution_count": 18,
   "metadata": {},
   "outputs": [
    {
     "data": {
      "text/plain": [
       "0.5092062942543713"
      ]
     },
     "execution_count": 18,
     "metadata": {},
     "output_type": "execute_result"
    }
   ],
   "source": [
    "# use the same logic as above, but now from the point of view of w2\n",
    "# notice how we use w6 and w2/w4 and bias2 in the equation of right side\n",
    "deriv_L_w2_left = 2 * w8 * (node_1_output * w7 + node_2_output * w8 + node_3_output * w9 + bias4 - true_value)\n",
    "deriv_L_w2_right = activation_ReLu_partial_derivative(input1 * w2 + input2 * w5 + bias2) * input1\n",
    "deriv_L_w2 = deriv_L_w2_left * deriv_L_w2_right\n",
    "new_w2 = w2 - LR * deriv_L_w2\n",
    "new_w2"
   ]
  },
  {
   "cell_type": "code",
   "execution_count": 19,
   "metadata": {},
   "outputs": [
    {
     "data": {
      "text/plain": [
       "1.0"
      ]
     },
     "execution_count": 19,
     "metadata": {},
     "output_type": "execute_result"
    }
   ],
   "source": [
    "# use the same formula again\n",
    "deriv_L_w3_left = 2 * w9 * (node_1_output * w7 + node_2_output * w8 + node_3_output * w9 + bias4 - true_value)\n",
    "deriv_L_w3_right = activation_ReLu_partial_derivative(input1 * w3 + input2 * w6 + bias1) * input2\n",
    "deriv_L_w3 = deriv_L_w3_left * deriv_L_w3_right\n",
    "new_w3 = w3 - LR * deriv_L_w3\n",
    "new_w3"
   ]
  },
  {
   "cell_type": "code",
   "execution_count": 20,
   "metadata": {},
   "outputs": [
    {
     "data": {
      "text/plain": [
       "-0.5"
      ]
     },
     "execution_count": 20,
     "metadata": {},
     "output_type": "execute_result"
    }
   ],
   "source": [
    "# use the same formula again\n",
    "deriv_L_w4_left = 2 * w7 * (node_1_output * w7 + node_2_output * w8 + node_3_output * w9 + bias4 - true_value)\n",
    "deriv_L_w4_right = activation_ReLu_partial_derivative(input1 * w1 + input2 * w4 + bias2) * input2\n",
    "deriv_L_w4 = deriv_L_w4_left * deriv_L_w4_right\n",
    "new_w4 = w4 - LR * deriv_L_w4\n",
    "new_w4"
   ]
  },
  {
   "cell_type": "code",
   "execution_count": 21,
   "metadata": {},
   "outputs": [
    {
     "data": {
      "text/plain": [
       "1.0"
      ]
     },
     "execution_count": 21,
     "metadata": {},
     "output_type": "execute_result"
    }
   ],
   "source": [
    "# use the same formula again\n",
    "deriv_L_w5_left = 2 * w8 * (node_1_output * w7 + node_2_output * w8 + node_3_output * w9 + bias4 - true_value)\n",
    "deriv_L_w5_right = activation_ReLu_partial_derivative(input1 * w2 + input2 * w5 + bias2) * input2\n",
    "deriv_L_w5 = deriv_L_w5_left * deriv_L_w5_right\n",
    "new_w5 = w5 - LR * deriv_L_w5\n",
    "new_w5"
   ]
  },
  {
   "cell_type": "code",
   "execution_count": 22,
   "metadata": {},
   "outputs": [
    {
     "data": {
      "text/plain": [
       "1.0"
      ]
     },
     "execution_count": 22,
     "metadata": {},
     "output_type": "execute_result"
    }
   ],
   "source": [
    "# use the same formula again\n",
    "deriv_L_w6_left = 2 * w9 * (node_1_output * w7 + node_2_output * w8 + node_3_output * w9 + bias4 - true_value)\n",
    "deriv_L_w6_right = activation_ReLu_partial_derivative(input1 * w3 + input2 * w6 + bias2) * input2\n",
    "deriv_L_w6 = deriv_L_w6_left * deriv_L_w6_right\n",
    "new_w6 = w6 - LR * deriv_L_w6\n",
    "new_w6"
   ]
  },
  {
   "cell_type": "code",
   "execution_count": 23,
   "metadata": {},
   "outputs": [
    {
     "data": {
      "text/plain": [
       "0.5"
      ]
     },
     "execution_count": 23,
     "metadata": {},
     "output_type": "execute_result"
    }
   ],
   "source": [
    "# otherwise the same formula, but we can multiply the right side function with just 1\n",
    "# because it's a derivation of bias-term, which is the same as derivation of x, which results in 1\n",
    "deriv_L_b1_left = 2 * w7 * (node_1_output * w7 + node_2_output * w8 + node_3_output * w9 + bias4 - true_value)\n",
    "deriv_L_b1_right = activation_ReLu_partial_derivative(input1 * w1 + input2 * w4 + bias1) * 1\n",
    "deriv_L_b1 = deriv_L_b1_left * deriv_L_b1_right\n",
    "new_b1 = bias1 - LR * deriv_L_b1\n",
    "new_b1"
   ]
  },
  {
   "cell_type": "code",
   "execution_count": 24,
   "metadata": {},
   "outputs": [
    {
     "data": {
      "text/plain": [
       "0.009206294254371219"
      ]
     },
     "execution_count": 24,
     "metadata": {},
     "output_type": "execute_result"
    }
   ],
   "source": [
    "# similar derivation of bias 2\n",
    "deriv_L_b2_left = 2 * w8 * (node_1_output * w7 + node_2_output * w8 + node_3_output * w9 + bias4 - true_value)\n",
    "deriv_L_b2_right = activation_ReLu_partial_derivative(input1 * w2 + input2 * w5 + bias2) * 1\n",
    "deriv_L_b2 = deriv_L_b2_left * deriv_L_b2_right\n",
    "new_b2 = bias2 - LR * deriv_L_b2\n",
    "new_b2"
   ]
  },
  {
   "cell_type": "code",
   "execution_count": 25,
   "metadata": {},
   "outputs": [
    {
     "data": {
      "text/plain": [
       "0.5010576917078617"
      ]
     },
     "execution_count": 25,
     "metadata": {},
     "output_type": "execute_result"
    }
   ],
   "source": [
    "# otherwise the same formula, but we can multiply the right side function with just 1\n",
    "# because it's a derivation of bias-term, which is the same as derivation of x, which results in 1\n",
    "deriv_L_b3_left = 2 * w9 * (node_1_output * w7 + node_2_output * w8 + node_3_output * w9 + bias4 - true_value)\n",
    "deriv_L_b3_right = activation_ReLu_partial_derivative(input1 * w3 + input2 * w6 + bias1) * 1\n",
    "deriv_L_b3 = deriv_L_b3_left * deriv_L_b3_right\n",
    "new_b3 = bias3 - LR * deriv_L_b3\n",
    "new_b3"
   ]
  },
  {
   "cell_type": "markdown",
   "metadata": {},
   "source": [
    "<b>Everything should be okay now, let's compare the results</b>"
   ]
  },
  {
   "cell_type": "code",
   "execution_count": 26,
   "metadata": {},
   "outputs": [
    {
     "name": "stdout",
     "output_type": "stream",
     "text": [
      "ORIGINAL WEIGHTS AND BIASES\n",
      "w1: 1\n",
      "w2: 0.5\n",
      "w3: 1\n",
      "w4: -0.5\n",
      "w5: 1\n",
      "w6: 1\n",
      "w7: 0\n",
      "w8: 1\n",
      "w9: 0.5\n",
      "b1: 0.5\n",
      "b2: 0\n",
      "b3: 0.5\n",
      "b4: 0.5\n",
      "\n",
      "\n",
      "######################################\n",
      "NEW WEIGHTS AND BIASES\n",
      "w1: 1.0\n",
      "w2: 0.5092062942543713\n",
      "w3: 1.0\n",
      "w4: -0.5\n",
      "w5: 1.0\n",
      "w6: 1.0\n",
      "w7: 0.010595823241117922\n",
      "w8: 1.0054096239983865\n",
      "w9: 0.510595823241118\n",
      "b1: 0.5\n",
      "b2: 0.009206294254371219\n",
      "b3: 0.5010576917078617\n",
      "b4: 0.5117061743183512\n"
     ]
    }
   ],
   "source": [
    "print(\"ORIGINAL WEIGHTS AND BIASES\")\n",
    "print(f\"w1: {w1}\")\n",
    "print(f\"w2: {w2}\")\n",
    "print(f\"w3: {w3}\")\n",
    "print(f\"w4: {w4}\")\n",
    "print(f\"w5: {w5}\")\n",
    "print(f\"w6: {w6}\")\n",
    "print(f\"w7: {w7}\")\n",
    "print(f\"w8: {w8}\")\n",
    "print(f\"w9: {w9}\")\n",
    "print(f\"b1: {bias1}\")\n",
    "print(f\"b2: {bias2}\")\n",
    "print(f\"b3: {bias3}\")\n",
    "print(f\"b4: {bias4}\")\n",
    "\n",
    "print(\"\\n\\n######################################\")\n",
    "\n",
    "print(\"NEW WEIGHTS AND BIASES\")\n",
    "print(f\"w1: {new_w1}\")\n",
    "print(f\"w2: {new_w2}\")\n",
    "print(f\"w3: {new_w3}\")\n",
    "print(f\"w4: {new_w4}\")\n",
    "print(f\"w5: {new_w5}\")\n",
    "print(f\"w6: {new_w6}\")\n",
    "print(f\"w7: {new_w7}\")\n",
    "print(f\"w8: {new_w8}\")\n",
    "print(f\"w9: {new_w9}\")\n",
    "print(f\"b1: {new_b1}\")\n",
    "print(f\"b2: {new_b2}\")\n",
    "print(f\"b3: {new_b3}\")\n",
    "print(f\"b4: {new_b4}\")"
   ]
  },
  {
   "cell_type": "code",
   "execution_count": null,
   "metadata": {},
   "outputs": [],
   "source": []
  },
  {
   "cell_type": "markdown",
   "metadata": {},
   "source": [
    "<b>Trying with new values and increased learning rate"
   ]
  },
  {
   "cell_type": "code",
   "execution_count": 27,
   "metadata": {},
   "outputs": [],
   "source": [
    "# initialize weights and biases\n",
    "# in Keras etc. these are usually randomized in the beginning\n",
    "w1 = new_w1\n",
    "w2 = new_w2\n",
    "w3 = new_w3\n",
    "w4 = new_w4\n",
    "w5 = new_w5\n",
    "w6 = new_w6\n",
    "w7 = new_w7\n",
    "w8 = new_w8\n",
    "w9 = new_w9\n",
    "bias1 = new_b1\n",
    "bias2 = new_b2\n",
    "bias3 = new_b3\n",
    "bias4 = new_b4\n",
    "\n",
    "# our training data\n",
    "# x1 = input1, x2 = input2, y = true_value\n",
    "input1 = 1\n",
    "input2 = 0\n",
    "true_value = 2\n",
    "\n",
    "# our learning rate\n",
    "LR = 0.05"
   ]
  },
  {
   "cell_type": "markdown",
   "metadata": {},
   "source": [
    "<b>FORWARD PASS</b>"
   ]
  },
  {
   "cell_type": "code",
   "execution_count": 28,
   "metadata": {},
   "outputs": [
    {
     "data": {
      "text/plain": [
       "0.9051482536448664"
      ]
     },
     "execution_count": 28,
     "metadata": {},
     "output_type": "execute_result"
    }
   ],
   "source": [
    "# NODE 1 OUTPUT\n",
    "node_1_output = input1 * w1 + input2 * w4 + bias1\n",
    "node_1_output = activation_ReLu(node_1_output)\n",
    "node_1_output"
   ]
  },
  {
   "cell_type": "code",
   "execution_count": 29,
   "metadata": {},
   "outputs": [
    {
     "data": {
      "text/plain": [
       "0.4764739149685232"
      ]
     },
     "execution_count": 29,
     "metadata": {},
     "output_type": "execute_result"
    }
   ],
   "source": [
    "# NODE 2 OUTPUT\n",
    "node_2_output = input1 * w2 + input2 * w5 + bias2\n",
    "node_2_output = activation_ReLu(node_2_output)\n",
    "node_2_output"
   ]
  },
  {
   "cell_type": "code",
   "execution_count": 30,
   "metadata": {},
   "outputs": [
    {
     "data": {
      "text/plain": [
       "0.905339202678749"
      ]
     },
     "execution_count": 30,
     "metadata": {},
     "output_type": "execute_result"
    }
   ],
   "source": [
    "node_3_output = input1 * w3 + input2 * w6 + bias3\n",
    "node_3_output = activation_ReLu(node_3_output)\n",
    "node_3_output"
   ]
  },
  {
   "cell_type": "code",
   "execution_count": 31,
   "metadata": {},
   "outputs": [
    {
     "data": {
      "text/plain": [
       "0.8960802179229007"
      ]
     },
     "execution_count": 31,
     "metadata": {},
     "output_type": "execute_result"
    }
   ],
   "source": [
    "# NODE 3 OUTPUT\n",
    "# we can just use Node 1 and 2 outputs, since they\n",
    "# already contain the the previous weights\n",
    "node_4_output = node_1_output * w7 + node_2_output * w8 + node_3_output * w9 + bias3\n",
    "node_4_output = activation_ReLu(node_4_output)\n",
    "node_4_output"
   ]
  },
  {
   "cell_type": "code",
   "execution_count": 32,
   "metadata": {},
   "outputs": [
    {
     "name": "stdout",
     "output_type": "stream",
     "text": [
      "Predicted: 0.8960802179229007 --> True value: 2\n"
     ]
    }
   ],
   "source": [
    "# compare predicted value with true value\n",
    "print(f\"Predicted: {node_4_output} --> True value: {true_value}\")"
   ]
  },
  {
   "cell_type": "code",
   "execution_count": 33,
   "metadata": {},
   "outputs": [
    {
     "data": {
      "text/plain": [
       "1.2186388852611507"
      ]
     },
     "execution_count": 33,
     "metadata": {},
     "output_type": "execute_result"
    }
   ],
   "source": [
    "# LOSS FUNCTION - we are going to use MSE -> mean squared error\n",
    "# MSE formula LOSS => (predicted_value - true_value) ^ 2\n",
    "predicted_value = node_4_output\n",
    "loss = (predicted_value - true_value) ** 2\n",
    "loss"
   ]
  },
  {
   "cell_type": "markdown",
   "metadata": {},
   "source": [
    "<h3>BACKPROPAGATION - update the weights and biases while traversing the network BACKWARDS</h3>"
   ]
  },
  {
   "cell_type": "code",
   "execution_count": 34,
   "metadata": {},
   "outputs": [
    {
     "data": {
      "text/plain": [
       "-0.9728337186453304"
      ]
     },
     "execution_count": 34,
     "metadata": {},
     "output_type": "execute_result"
    }
   ],
   "source": [
    "# solving the partial derivative of the loss function with respect to weight 5\n",
    "deriv_L_w7 = 2 * node_1_output * (node_1_output * w7 + node_2_output * w8 + node_3_output * w9 + bias4 - true_value)\n",
    "deriv_L_w7"
   ]
  },
  {
   "cell_type": "code",
   "execution_count": 35,
   "metadata": {},
   "outputs": [
    {
     "data": {
      "text/plain": [
       "0.059237509173384446"
      ]
     },
     "execution_count": 35,
     "metadata": {},
     "output_type": "execute_result"
    }
   ],
   "source": [
    "# this decreases the weight value a little bit\n",
    "# this is basically our optimizer + learning rate\n",
    "# this optimizer is known as gradient descent\n",
    "new_w7 = w7 - LR * deriv_L_w7\n",
    "new_w7"
   ]
  },
  {
   "cell_type": "code",
   "execution_count": 36,
   "metadata": {},
   "outputs": [
    {
     "data": {
      "text/plain": [
       "-0.5121038334546605"
      ]
     },
     "execution_count": 36,
     "metadata": {},
     "output_type": "execute_result"
    }
   ],
   "source": [
    "# solving the partial derivative of the loss function with respect to weight 6\n",
    "deriv_L_w8 = 2 * node_2_output * (node_1_output * w7 + node_2_output * w8 + node_3_output * w9 + bias4 - true_value)\n",
    "deriv_L_w8"
   ]
  },
  {
   "cell_type": "code",
   "execution_count": 37,
   "metadata": {},
   "outputs": [
    {
     "data": {
      "text/plain": [
       "1.0310148156711196"
      ]
     },
     "execution_count": 37,
     "metadata": {},
     "output_type": "execute_result"
    }
   ],
   "source": [
    "# calculate new value for weight 6\n",
    "new_w8 = w8 - LR * deriv_L_w8\n",
    "new_w8"
   ]
  },
  {
   "cell_type": "code",
   "execution_count": 38,
   "metadata": {},
   "outputs": [
    {
     "data": {
      "text/plain": [
       "-0.9730389465270125"
      ]
     },
     "execution_count": 38,
     "metadata": {},
     "output_type": "execute_result"
    }
   ],
   "source": [
    "# solving the partial derivative of the loss function with respect to weight 6\n",
    "deriv_L_w9 = 2 * node_3_output * (node_1_output * w7 + node_2_output * w8 + node_3_output * w9 + bias4 - true_value)\n",
    "deriv_L_w9"
   ]
  },
  {
   "cell_type": "code",
   "execution_count": 39,
   "metadata": {},
   "outputs": [
    {
     "data": {
      "text/plain": [
       "0.5592477705674685"
      ]
     },
     "execution_count": 39,
     "metadata": {},
     "output_type": "execute_result"
    }
   ],
   "source": [
    "# calculate new value for weight 6\n",
    "new_w9 = w9 - LR * deriv_L_w9\n",
    "new_w9"
   ]
  },
  {
   "cell_type": "code",
   "execution_count": 40,
   "metadata": {},
   "outputs": [
    {
     "data": {
      "text/plain": [
       "-1.0747783191625317"
      ]
     },
     "execution_count": 40,
     "metadata": {},
     "output_type": "execute_result"
    }
   ],
   "source": [
    "# solving the partial derivative of the loss function with respect to bias3\n",
    "# NOTE: the * 1 comes from derivating the bias, which is same as derivating x, \n",
    "# which result in 1\n",
    "deriv_L_b4 = 2 * 1 * (node_1_output * w7 + node_2_output * w8 + node_3_output * w9 + bias4 - true_value)\n",
    "deriv_L_b4"
   ]
  },
  {
   "cell_type": "code",
   "execution_count": 41,
   "metadata": {},
   "outputs": [
    {
     "data": {
      "text/plain": [
       "0.5654450902764778"
      ]
     },
     "execution_count": 41,
     "metadata": {},
     "output_type": "execute_result"
    }
   ],
   "source": [
    "# update the bias 3 based on previous derivation\n",
    "new_b4 = bias4 - LR * deriv_L_b4\n",
    "new_b4"
   ]
  },
  {
   "cell_type": "markdown",
   "metadata": {},
   "source": [
    "<b>To access the first layer, we need to use chain rule, in order to calculate new values for w1-w4 and bias1/2</b>"
   ]
  },
  {
   "cell_type": "code",
   "execution_count": 42,
   "metadata": {},
   "outputs": [
    {
     "data": {
      "text/plain": [
       "1.0001028958157339"
      ]
     },
     "execution_count": 42,
     "metadata": {},
     "output_type": "execute_result"
    }
   ],
   "source": [
    "# see materials for how we need to split this calculation into two parts\n",
    "# here we solve the left and right sides separately\n",
    "\n",
    "# left side is mostly the same as derivating w5 and w6\n",
    "deriv_L_w1_left = 2 * w7* (node_1_output * w7 + node_2_output * w8 + node_3_output * w9 + bias4- true_value)\n",
    "\n",
    "# right side: use ReLu derivation and remember to match correct weights with correct inputs and biases\n",
    "# based on which weight are you are derivating\n",
    "# COMPARE THE OTHER ORIGINAL PICTURE IN THE MATERIALS\n",
    "# in the case of w1 => use w1 and and w3 inside the Relu-derivation, because\n",
    "# these weights are connected to node 1 (which is connected to w1)\n",
    "# also use bias1, since it's part of node 1\n",
    "# finally, multiply all with input1, because it is connected to w1\n",
    "deriv_L_w1_right = activation_ReLu_partial_derivative(input1 * w1 + input2 * w4 + bias1) * input1\n",
    "deriv_L_w1 = deriv_L_w1_left * deriv_L_w1_right\n",
    "new_w1 = w1 - LR * deriv_L_w1\n",
    "new_w1"
   ]
  },
  {
   "cell_type": "code",
   "execution_count": 43,
   "metadata": {},
   "outputs": [
    {
     "data": {
      "text/plain": [
       "0.5509697130953565"
      ]
     },
     "execution_count": 43,
     "metadata": {},
     "output_type": "execute_result"
    }
   ],
   "source": [
    "# use the same logic as above, but now from the point of view of w2\n",
    "# notice how we use w6 and w2/w4 and bias2 in the equation of right side\n",
    "deriv_L_w2_left = 2 * w8 * (node_1_output * w7 + node_2_output * w8 + node_3_output * w9 + bias4 - true_value)\n",
    "deriv_L_w2_right = activation_ReLu_partial_derivative(input1 * w2 + input2 * w5 + bias2) * input1\n",
    "deriv_L_w2 = deriv_L_w2_left * deriv_L_w2_right\n",
    "new_w2 = w2 - LR * deriv_L_w2\n",
    "new_w2"
   ]
  },
  {
   "cell_type": "code",
   "execution_count": 44,
   "metadata": {},
   "outputs": [
    {
     "data": {
      "text/plain": [
       "1.0"
      ]
     },
     "execution_count": 44,
     "metadata": {},
     "output_type": "execute_result"
    }
   ],
   "source": [
    "# use the same formula again\n",
    "deriv_L_w3_left = 2 * w9 * (node_1_output * w7 + node_2_output * w8 + node_3_output * w9 + bias4 - true_value)\n",
    "deriv_L_w3_right = activation_ReLu_partial_derivative(input1 * w3 + input2 * w6 + bias1) * input2\n",
    "deriv_L_w3 = deriv_L_w3_left * deriv_L_w3_right\n",
    "new_w3 = w3 - LR * deriv_L_w3\n",
    "new_w3"
   ]
  },
  {
   "cell_type": "code",
   "execution_count": 45,
   "metadata": {},
   "outputs": [
    {
     "data": {
      "text/plain": [
       "-0.5"
      ]
     },
     "execution_count": 45,
     "metadata": {},
     "output_type": "execute_result"
    }
   ],
   "source": [
    "# use the same formula again\n",
    "deriv_L_w4_left = 2 * w7 * (node_1_output * w7 + node_2_output * w8 + node_3_output * w9 + bias4 - true_value)\n",
    "deriv_L_w4_right = activation_ReLu_partial_derivative(input1 * w1 + input2 * w4 + bias2) * input2\n",
    "deriv_L_w4 = deriv_L_w4_left * deriv_L_w4_right\n",
    "new_w4 = w4 - LR * deriv_L_w4\n",
    "new_w4"
   ]
  },
  {
   "cell_type": "code",
   "execution_count": 46,
   "metadata": {},
   "outputs": [
    {
     "data": {
      "text/plain": [
       "1.0"
      ]
     },
     "execution_count": 46,
     "metadata": {},
     "output_type": "execute_result"
    }
   ],
   "source": [
    "# use the same formula again\n",
    "deriv_L_w5_left = 2 * w8 * (node_1_output * w7 + node_2_output * w8 + node_3_output * w9 + bias4 - true_value)\n",
    "deriv_L_w5_right = activation_ReLu_partial_derivative(input1 * w2 + input2 * w5 + bias2) * input2\n",
    "deriv_L_w5 = deriv_L_w5_left * deriv_L_w5_right\n",
    "new_w5 = w5 - LR * deriv_L_w5\n",
    "new_w5"
   ]
  },
  {
   "cell_type": "code",
   "execution_count": 47,
   "metadata": {},
   "outputs": [
    {
     "data": {
      "text/plain": [
       "1.0"
      ]
     },
     "execution_count": 47,
     "metadata": {},
     "output_type": "execute_result"
    }
   ],
   "source": [
    "# use the same formula again\n",
    "deriv_L_w6_left = 2 * w9 * (node_1_output * w7 + node_2_output * w8 + node_3_output * w9 + bias4 - true_value)\n",
    "deriv_L_w6_right = activation_ReLu_partial_derivative(input1 * w3 + input2 * w6 + bias2) * input2\n",
    "deriv_L_w6 = deriv_L_w6_left * deriv_L_w6_right\n",
    "new_w6 = w6 - LR * deriv_L_w6\n",
    "new_w6"
   ]
  },
  {
   "cell_type": "code",
   "execution_count": 48,
   "metadata": {},
   "outputs": [
    {
     "data": {
      "text/plain": [
       "0.500102895815734"
      ]
     },
     "execution_count": 48,
     "metadata": {},
     "output_type": "execute_result"
    }
   ],
   "source": [
    "# otherwise the same formula, but we can multiply the right side function with just 1\n",
    "# because it's a derivation of bias-term, which is the same as derivation of x, which results in 1\n",
    "deriv_L_b1_left = 2 * w7 * (node_1_output * w7 + node_2_output * w8 + node_3_output * w9 + bias4 - true_value)\n",
    "deriv_L_b1_right = activation_ReLu_partial_derivative(input1 * w1 + input2 * w4 + bias1) * 1\n",
    "deriv_L_b1 = deriv_L_b1_left * deriv_L_b1_right\n",
    "new_b1 = bias1 - LR * deriv_L_b1\n",
    "new_b1"
   ]
  },
  {
   "cell_type": "code",
   "execution_count": 49,
   "metadata": {},
   "outputs": [
    {
     "data": {
      "text/plain": [
       "0.05096971309535647"
      ]
     },
     "execution_count": 49,
     "metadata": {},
     "output_type": "execute_result"
    }
   ],
   "source": [
    "# similar derivation of bias 2\n",
    "deriv_L_b2_left = 2 * w8 * (node_1_output * w7 + node_2_output * w8 + node_3_output * w9 + bias4 - true_value)\n",
    "deriv_L_b2_right = activation_ReLu_partial_derivative(input1 * w2 + input2 * w5 + bias2) * 1\n",
    "deriv_L_b2 = deriv_L_b2_left * deriv_L_b2_right\n",
    "new_b2 = bias2 - LR * deriv_L_b2\n",
    "new_b2"
   ]
  },
  {
   "cell_type": "code",
   "execution_count": 50,
   "metadata": {},
   "outputs": [
    {
     "data": {
      "text/plain": [
       "0.5060160769646924"
      ]
     },
     "execution_count": 50,
     "metadata": {},
     "output_type": "execute_result"
    }
   ],
   "source": [
    "# otherwise the same formula, but we can multiply the right side function with just 1\n",
    "# because it's a derivation of bias-term, which is the same as derivation of x, which results in 1\n",
    "deriv_L_b3_left = 2 * w9 * (node_1_output * w7 + node_2_output * w8 + node_3_output * w9 + bias4 - true_value)\n",
    "deriv_L_b3_right = activation_ReLu_partial_derivative(input1 * w3 + input2 * w6 + bias1) * 1\n",
    "deriv_L_b3 = deriv_L_b3_left * deriv_L_b3_right\n",
    "new_b3 = bias3 - LR * deriv_L_b3\n",
    "new_b3"
   ]
  },
  {
   "cell_type": "markdown",
   "metadata": {},
   "source": [
    "<b>Everything should be okay now, let's compare the results</b>"
   ]
  },
  {
   "cell_type": "code",
   "execution_count": 51,
   "metadata": {},
   "outputs": [
    {
     "name": "stdout",
     "output_type": "stream",
     "text": [
      "ORIGINAL WEIGHTS AND BIASES\n",
      "w1: 1.0\n",
      "w2: 0.5092062942543713\n",
      "w3: 1.0\n",
      "w4: -0.5\n",
      "w5: 1.0\n",
      "w6: 1.0\n",
      "w7: 0.010595823241117922\n",
      "w8: 1.0054096239983865\n",
      "w9: 0.510595823241118\n",
      "b1: 0.5\n",
      "b2: 0.009206294254371219\n",
      "b3: 0.5010576917078617\n",
      "b4: 0.5117061743183512\n",
      "\n",
      "\n",
      "######################################\n",
      "NEW WEIGHTS AND BIASES\n",
      "w1: 1.0001028958157339\n",
      "w2: 0.5509697130953565\n",
      "w3: 1.0\n",
      "w4: -0.5\n",
      "w5: 1.0\n",
      "w6: 1.0\n",
      "w7: 0.059237509173384446\n",
      "w8: 1.0310148156711196\n",
      "w9: 0.5592477705674685\n",
      "b1: 0.500102895815734\n",
      "b2: 0.05096971309535647\n",
      "b3: 0.5060160769646924\n",
      "b4: 0.5654450902764778\n"
     ]
    }
   ],
   "source": [
    "print(\"ORIGINAL WEIGHTS AND BIASES\")\n",
    "print(f\"w1: {w1}\")\n",
    "print(f\"w2: {w2}\")\n",
    "print(f\"w3: {w3}\")\n",
    "print(f\"w4: {w4}\")\n",
    "print(f\"w5: {w5}\")\n",
    "print(f\"w6: {w6}\")\n",
    "print(f\"w7: {w7}\")\n",
    "print(f\"w8: {w8}\")\n",
    "print(f\"w9: {w9}\")\n",
    "print(f\"b1: {bias1}\")\n",
    "print(f\"b2: {bias2}\")\n",
    "print(f\"b3: {bias3}\")\n",
    "print(f\"b4: {bias4}\")\n",
    "\n",
    "print(\"\\n\\n######################################\")\n",
    "\n",
    "print(\"NEW WEIGHTS AND BIASES\")\n",
    "print(f\"w1: {new_w1}\")\n",
    "print(f\"w2: {new_w2}\")\n",
    "print(f\"w3: {new_w3}\")\n",
    "print(f\"w4: {new_w4}\")\n",
    "print(f\"w5: {new_w5}\")\n",
    "print(f\"w6: {new_w6}\")\n",
    "print(f\"w7: {new_w7}\")\n",
    "print(f\"w8: {new_w8}\")\n",
    "print(f\"w9: {new_w9}\")\n",
    "print(f\"b1: {new_b1}\")\n",
    "print(f\"b2: {new_b2}\")\n",
    "print(f\"b3: {new_b3}\")\n",
    "print(f\"b4: {new_b4}\")"
   ]
  },
  {
   "cell_type": "markdown",
   "metadata": {},
   "source": [
    "<b>Trying with new values"
   ]
  },
  {
   "cell_type": "code",
   "execution_count": 52,
   "metadata": {},
   "outputs": [],
   "source": [
    "# initialize weights and biases\n",
    "# in Keras etc. these are usually randomized in the beginning\n",
    "w1 = new_w1\n",
    "w2 = new_w2\n",
    "w3 = new_w3\n",
    "w4 = new_w4\n",
    "w5 = new_w5\n",
    "w6 = new_w6\n",
    "w7 = new_w7\n",
    "w8 = new_w8\n",
    "w9 = new_w9\n",
    "bias1 = new_b1\n",
    "bias2 = new_b2\n",
    "bias3 = new_b3\n",
    "bias4 = new_b4\n",
    "\n",
    "# our training data\n",
    "# x1 = input1, x2 = input2, y = true_value\n",
    "input1 = 1\n",
    "input2 = 0\n",
    "true_value = 2\n",
    "\n",
    "# our learning rate\n",
    "LR = 0.1"
   ]
  },
  {
   "cell_type": "markdown",
   "metadata": {},
   "source": [
    "<b>FORWARD PASS</b>"
   ]
  },
  {
   "cell_type": "code",
   "execution_count": 53,
   "metadata": {},
   "outputs": [
    {
     "data": {
      "text/plain": [
       "0.9051854346326081"
      ]
     },
     "execution_count": 53,
     "metadata": {},
     "output_type": "execute_result"
    }
   ],
   "source": [
    "# NODE 1 OUTPUT\n",
    "node_1_output = input1 * w1 + input2 * w4 + bias1\n",
    "node_1_output = activation_ReLu(node_1_output)\n",
    "node_1_output"
   ]
  },
  {
   "cell_type": "code",
   "execution_count": 54,
   "metadata": {},
   "outputs": [
    {
     "data": {
      "text/plain": [
       "0.5384281818978724"
      ]
     },
     "execution_count": 54,
     "metadata": {},
     "output_type": "execute_result"
    }
   ],
   "source": [
    "# NODE 2 OUTPUT\n",
    "node_2_output = input1 * w2 + input2 * w5 + bias2\n",
    "node_2_output = activation_ReLu(node_2_output)\n",
    "node_2_output"
   ]
  },
  {
   "cell_type": "code",
   "execution_count": 55,
   "metadata": {},
   "outputs": [
    {
     "data": {
      "text/plain": [
       "0.906229497796301"
      ]
     },
     "execution_count": 55,
     "metadata": {},
     "output_type": "execute_result"
    }
   ],
   "source": [
    "node_3_output = input1 * w3 + input2 * w6 + bias3\n",
    "node_3_output = activation_ReLu(node_3_output)\n",
    "node_3_output"
   ]
  },
  {
   "cell_type": "code",
   "execution_count": 56,
   "metadata": {},
   "outputs": [
    {
     "data": {
      "text/plain": [
       "0.9248518318176742"
      ]
     },
     "execution_count": 56,
     "metadata": {},
     "output_type": "execute_result"
    }
   ],
   "source": [
    "# NODE 3 OUTPUT\n",
    "# we can just use Node 1 and 2 outputs, since they\n",
    "# already contain the the previous weights\n",
    "node_4_output = node_1_output * w7 + node_2_output * w8 + node_3_output * w9 + bias3\n",
    "node_4_output = activation_ReLu(node_4_output)\n",
    "node_4_output"
   ]
  },
  {
   "cell_type": "code",
   "execution_count": 57,
   "metadata": {},
   "outputs": [
    {
     "name": "stdout",
     "output_type": "stream",
     "text": [
      "Predicted: 0.9248518318176742 --> True value: 2\n"
     ]
    }
   ],
   "source": [
    "# compare predicted value with true value\n",
    "print(f\"Predicted: {node_4_output} --> True value: {true_value}\")"
   ]
  },
  {
   "cell_type": "code",
   "execution_count": 58,
   "metadata": {},
   "outputs": [
    {
     "data": {
      "text/plain": [
       "1.1559435835458107"
      ]
     },
     "execution_count": 58,
     "metadata": {},
     "output_type": "execute_result"
    }
   ],
   "source": [
    "# LOSS FUNCTION - we are going to use MSE -> mean squared error\n",
    "# MSE formula LOSS => (predicted_value - true_value) ^ 2\n",
    "predicted_value = node_4_output\n",
    "loss = (predicted_value - true_value) ** 2\n",
    "loss"
   ]
  },
  {
   "cell_type": "markdown",
   "metadata": {},
   "source": [
    "<h3>BACKPROPAGATION - update the weights and biases while traversing the network BACKWARDS</h3>"
   ]
  },
  {
   "cell_type": "code",
   "execution_count": 59,
   "metadata": {},
   "outputs": [
    {
     "data": {
      "text/plain": [
       "-0.5775078008610628"
      ]
     },
     "execution_count": 59,
     "metadata": {},
     "output_type": "execute_result"
    }
   ],
   "source": [
    "# solving the partial derivative of the loss function with respect to weight 5\n",
    "deriv_L_w7 = 2 * node_1_output * (node_1_output * w7 + node_2_output * w8 + node_3_output * w9 + bias4 - true_value)\n",
    "deriv_L_w7"
   ]
  },
  {
   "cell_type": "code",
   "execution_count": 60,
   "metadata": {},
   "outputs": [
    {
     "data": {
      "text/plain": [
       "0.11698828925949073"
      ]
     },
     "execution_count": 60,
     "metadata": {},
     "output_type": "execute_result"
    }
   ],
   "source": [
    "# this decreases the weight value a little bit\n",
    "# this is basically our optimizer + learning rate\n",
    "# this optimizer is known as gradient descent\n",
    "new_w7 = w7 - LR * deriv_L_w7\n",
    "new_w7"
   ]
  },
  {
   "cell_type": "code",
   "execution_count": 61,
   "metadata": {},
   "outputs": [
    {
     "data": {
      "text/plain": [
       "-0.3435168788102141"
      ]
     },
     "execution_count": 61,
     "metadata": {},
     "output_type": "execute_result"
    }
   ],
   "source": [
    "# solving the partial derivative of the loss function with respect to weight 6\n",
    "deriv_L_w8 = 2 * node_2_output * (node_1_output * w7 + node_2_output * w8 + node_3_output * w9 + bias4 - true_value)\n",
    "deriv_L_w8"
   ]
  },
  {
   "cell_type": "code",
   "execution_count": 62,
   "metadata": {},
   "outputs": [
    {
     "data": {
      "text/plain": [
       "1.0653665035521411"
      ]
     },
     "execution_count": 62,
     "metadata": {},
     "output_type": "execute_result"
    }
   ],
   "source": [
    "# calculate new value for weight 6\n",
    "new_w8 = w8 - LR * deriv_L_w8\n",
    "new_w8"
   ]
  },
  {
   "cell_type": "code",
   "execution_count": 63,
   "metadata": {},
   "outputs": [
    {
     "data": {
      "text/plain": [
       "-0.5781739125753648"
      ]
     },
     "execution_count": 63,
     "metadata": {},
     "output_type": "execute_result"
    }
   ],
   "source": [
    "# solving the partial derivative of the loss function with respect to weight 6\n",
    "deriv_L_w9 = 2 * node_3_output * (node_1_output * w7 + node_2_output * w8 + node_3_output * w9 + bias4 - true_value)\n",
    "deriv_L_w9"
   ]
  },
  {
   "cell_type": "code",
   "execution_count": 64,
   "metadata": {},
   "outputs": [
    {
     "data": {
      "text/plain": [
       "0.617065161825005"
      ]
     },
     "execution_count": 64,
     "metadata": {},
     "output_type": "execute_result"
    }
   ],
   "source": [
    "# calculate new value for weight 6\n",
    "new_w9 = w9 - LR * deriv_L_w9\n",
    "new_w9"
   ]
  },
  {
   "cell_type": "code",
   "execution_count": 65,
   "metadata": {},
   "outputs": [
    {
     "data": {
      "text/plain": [
       "-0.6379994405184597"
      ]
     },
     "execution_count": 65,
     "metadata": {},
     "output_type": "execute_result"
    }
   ],
   "source": [
    "# solving the partial derivative of the loss function with respect to bias3\n",
    "# NOTE: the * 1 comes from derivating the bias, which is same as derivating x, \n",
    "# which result in 1\n",
    "deriv_L_b4 = 2 * 1 * (node_1_output * w7 + node_2_output * w8 + node_3_output * w9 + bias4 - true_value)\n",
    "deriv_L_b4"
   ]
  },
  {
   "cell_type": "code",
   "execution_count": 66,
   "metadata": {},
   "outputs": [
    {
     "data": {
      "text/plain": [
       "0.6292450343283238"
      ]
     },
     "execution_count": 66,
     "metadata": {},
     "output_type": "execute_result"
    }
   ],
   "source": [
    "# update the bias 3 based on previous derivation\n",
    "new_b4 = bias4 - LR * deriv_L_b4\n",
    "new_b4"
   ]
  },
  {
   "cell_type": "markdown",
   "metadata": {},
   "source": [
    "<b>To access the first layer, we need to use chain rule, in order to calculate new values for w1-w4 and bias1/2</b>"
   ]
  },
  {
   "cell_type": "code",
   "execution_count": 67,
   "metadata": {},
   "outputs": [
    {
     "data": {
      "text/plain": [
       "1.0007855950221611"
      ]
     },
     "execution_count": 67,
     "metadata": {},
     "output_type": "execute_result"
    }
   ],
   "source": [
    "# see materials for how we need to split this calculation into two parts\n",
    "# here we solve the left and right sides separately\n",
    "\n",
    "# left side is mostly the same as derivating w5 and w6\n",
    "deriv_L_w1_left = 2 * w7* (node_1_output * w7 + node_2_output * w8 + node_3_output * w9 + bias4- true_value)\n",
    "\n",
    "# right side: use ReLu derivation and remember to match correct weights with correct inputs and biases\n",
    "# based on which weight are you are derivating\n",
    "# COMPARE THE OTHER ORIGINAL PICTURE IN THE MATERIALS\n",
    "# in the case of w1 => use w1 and and w3 inside the Relu-derivation, because\n",
    "# these weights are connected to node 1 (which is connected to w1)\n",
    "# also use bias1, since it's part of node 1\n",
    "# finally, multiply all with input1, because it is connected to w1\n",
    "deriv_L_w1_right = activation_ReLu_partial_derivative(input1 * w1 + input2 * w4 + bias1) * input1\n",
    "deriv_L_w1 = deriv_L_w1_left * deriv_L_w1_right\n",
    "new_w1 = w1 - LR * deriv_L_w1\n",
    "new_w1"
   ]
  },
  {
   "cell_type": "code",
   "execution_count": 68,
   "metadata": {},
   "outputs": [
    {
     "data": {
      "text/plain": [
       "0.5976788363490976"
      ]
     },
     "execution_count": 68,
     "metadata": {},
     "output_type": "execute_result"
    }
   ],
   "source": [
    "# use the same logic as above, but now from the point of view of w2\n",
    "# notice how we use w6 and w2/w4 and bias2 in the equation of right side\n",
    "deriv_L_w2_left = 2 * w8 * (node_1_output * w7 + node_2_output * w8 + node_3_output * w9 + bias4 - true_value)\n",
    "deriv_L_w2_right = activation_ReLu_partial_derivative(input1 * w2 + input2 * w5 + bias2) * input1\n",
    "deriv_L_w2 = deriv_L_w2_left * deriv_L_w2_right\n",
    "new_w2 = w2 - LR * deriv_L_w2\n",
    "new_w2"
   ]
  },
  {
   "cell_type": "code",
   "execution_count": 69,
   "metadata": {},
   "outputs": [
    {
     "data": {
      "text/plain": [
       "1.0"
      ]
     },
     "execution_count": 69,
     "metadata": {},
     "output_type": "execute_result"
    }
   ],
   "source": [
    "# use the same formula again\n",
    "deriv_L_w3_left = 2 * w9 * (node_1_output * w7 + node_2_output * w8 + node_3_output * w9 + bias4 - true_value)\n",
    "deriv_L_w3_right = activation_ReLu_partial_derivative(input1 * w3 + input2 * w6 + bias1) * input2\n",
    "deriv_L_w3 = deriv_L_w3_left * deriv_L_w3_right\n",
    "new_w3 = w3 - LR * deriv_L_w3\n",
    "new_w3"
   ]
  },
  {
   "cell_type": "code",
   "execution_count": 70,
   "metadata": {},
   "outputs": [
    {
     "data": {
      "text/plain": [
       "-0.5"
      ]
     },
     "execution_count": 70,
     "metadata": {},
     "output_type": "execute_result"
    }
   ],
   "source": [
    "# use the same formula again\n",
    "deriv_L_w4_left = 2 * w7 * (node_1_output * w7 + node_2_output * w8 + node_3_output * w9 + bias4 - true_value)\n",
    "deriv_L_w4_right = activation_ReLu_partial_derivative(input1 * w1 + input2 * w4 + bias2) * input2\n",
    "deriv_L_w4 = deriv_L_w4_left * deriv_L_w4_right\n",
    "new_w4 = w4 - LR * deriv_L_w4\n",
    "new_w4"
   ]
  },
  {
   "cell_type": "code",
   "execution_count": 71,
   "metadata": {},
   "outputs": [
    {
     "data": {
      "text/plain": [
       "1.0"
      ]
     },
     "execution_count": 71,
     "metadata": {},
     "output_type": "execute_result"
    }
   ],
   "source": [
    "# use the same formula again\n",
    "deriv_L_w5_left = 2 * w8 * (node_1_output * w7 + node_2_output * w8 + node_3_output * w9 + bias4 - true_value)\n",
    "deriv_L_w5_right = activation_ReLu_partial_derivative(input1 * w2 + input2 * w5 + bias2) * input2\n",
    "deriv_L_w5 = deriv_L_w5_left * deriv_L_w5_right\n",
    "new_w5 = w5 - LR * deriv_L_w5\n",
    "new_w5"
   ]
  },
  {
   "cell_type": "code",
   "execution_count": 72,
   "metadata": {},
   "outputs": [
    {
     "data": {
      "text/plain": [
       "1.0"
      ]
     },
     "execution_count": 72,
     "metadata": {},
     "output_type": "execute_result"
    }
   ],
   "source": [
    "# use the same formula again\n",
    "deriv_L_w6_left = 2 * w9 * (node_1_output * w7 + node_2_output * w8 + node_3_output * w9 + bias4 - true_value)\n",
    "deriv_L_w6_right = activation_ReLu_partial_derivative(input1 * w3 + input2 * w6 + bias2) * input2\n",
    "deriv_L_w6 = deriv_L_w6_left * deriv_L_w6_right\n",
    "new_w6 = w6 - LR * deriv_L_w6\n",
    "new_w6"
   ]
  },
  {
   "cell_type": "code",
   "execution_count": 73,
   "metadata": {},
   "outputs": [
    {
     "data": {
      "text/plain": [
       "0.5007855950221611"
      ]
     },
     "execution_count": 73,
     "metadata": {},
     "output_type": "execute_result"
    }
   ],
   "source": [
    "# otherwise the same formula, but we can multiply the right side function with just 1\n",
    "# because it's a derivation of bias-term, which is the same as derivation of x, which results in 1\n",
    "deriv_L_b1_left = 2 * w7 * (node_1_output * w7 + node_2_output * w8 + node_3_output * w9 + bias4 - true_value)\n",
    "deriv_L_b1_right = activation_ReLu_partial_derivative(input1 * w1 + input2 * w4 + bias1) * 1\n",
    "deriv_L_b1 = deriv_L_b1_left * deriv_L_b1_right\n",
    "new_b1 = bias1 - LR * deriv_L_b1\n",
    "new_b1"
   ]
  },
  {
   "cell_type": "code",
   "execution_count": 74,
   "metadata": {},
   "outputs": [
    {
     "data": {
      "text/plain": [
       "0.09767883634909759"
      ]
     },
     "execution_count": 74,
     "metadata": {},
     "output_type": "execute_result"
    }
   ],
   "source": [
    "# similar derivation of bias 2\n",
    "deriv_L_b2_left = 2 * w8 * (node_1_output * w7 + node_2_output * w8 + node_3_output * w9 + bias4 - true_value)\n",
    "deriv_L_b2_right = activation_ReLu_partial_derivative(input1 * w2 + input2 * w5 + bias2) * 1\n",
    "deriv_L_b2 = deriv_L_b2_left * deriv_L_b2_right\n",
    "new_b2 = bias2 - LR * deriv_L_b2\n",
    "new_b2"
   ]
  },
  {
   "cell_type": "code",
   "execution_count": 75,
   "metadata": {},
   "outputs": [
    {
     "data": {
      "text/plain": [
       "0.5124624846810388"
      ]
     },
     "execution_count": 75,
     "metadata": {},
     "output_type": "execute_result"
    }
   ],
   "source": [
    "# otherwise the same formula, but we can multiply the right side function with just 1\n",
    "# because it's a derivation of bias-term, which is the same as derivation of x, which results in 1\n",
    "deriv_L_b3_left = 2 * w9 * (node_1_output * w7 + node_2_output * w8 + node_3_output * w9 + bias4 - true_value)\n",
    "deriv_L_b3_right = activation_ReLu_partial_derivative(input1 * w3 + input2 * w6 + bias1) * 1\n",
    "deriv_L_b3 = deriv_L_b3_left * deriv_L_b3_right\n",
    "new_b3 = bias3 - LR * deriv_L_b3\n",
    "new_b3"
   ]
  },
  {
   "cell_type": "markdown",
   "metadata": {},
   "source": [
    "<b>Everything should be okay now, let's compare the results</b>"
   ]
  },
  {
   "cell_type": "code",
   "execution_count": 76,
   "metadata": {},
   "outputs": [
    {
     "name": "stdout",
     "output_type": "stream",
     "text": [
      "ORIGINAL WEIGHTS AND BIASES\n",
      "w1: 1.0001028958157339\n",
      "w2: 0.5509697130953565\n",
      "w3: 1.0\n",
      "w4: -0.5\n",
      "w5: 1.0\n",
      "w6: 1.0\n",
      "w7: 0.059237509173384446\n",
      "w8: 1.0310148156711196\n",
      "w9: 0.5592477705674685\n",
      "b1: 0.500102895815734\n",
      "b2: 0.05096971309535647\n",
      "b3: 0.5060160769646924\n",
      "b4: 0.5654450902764778\n",
      "\n",
      "\n",
      "######################################\n",
      "NEW WEIGHTS AND BIASES\n",
      "w1: 1.0007855950221611\n",
      "w2: 0.5976788363490976\n",
      "w3: 1.0\n",
      "w4: -0.5\n",
      "w5: 1.0\n",
      "w6: 1.0\n",
      "w7: 0.11698828925949073\n",
      "w8: 1.0653665035521411\n",
      "w9: 0.617065161825005\n",
      "b1: 0.5007855950221611\n",
      "b2: 0.09767883634909759\n",
      "b3: 0.5124624846810388\n",
      "b4: 0.6292450343283238\n"
     ]
    }
   ],
   "source": [
    "print(\"ORIGINAL WEIGHTS AND BIASES\")\n",
    "print(f\"w1: {w1}\")\n",
    "print(f\"w2: {w2}\")\n",
    "print(f\"w3: {w3}\")\n",
    "print(f\"w4: {w4}\")\n",
    "print(f\"w5: {w5}\")\n",
    "print(f\"w6: {w6}\")\n",
    "print(f\"w7: {w7}\")\n",
    "print(f\"w8: {w8}\")\n",
    "print(f\"w9: {w9}\")\n",
    "print(f\"b1: {bias1}\")\n",
    "print(f\"b2: {bias2}\")\n",
    "print(f\"b3: {bias3}\")\n",
    "print(f\"b4: {bias4}\")\n",
    "\n",
    "print(\"\\n\\n######################################\")\n",
    "\n",
    "print(\"NEW WEIGHTS AND BIASES\")\n",
    "print(f\"w1: {new_w1}\")\n",
    "print(f\"w2: {new_w2}\")\n",
    "print(f\"w3: {new_w3}\")\n",
    "print(f\"w4: {new_w4}\")\n",
    "print(f\"w5: {new_w5}\")\n",
    "print(f\"w6: {new_w6}\")\n",
    "print(f\"w7: {new_w7}\")\n",
    "print(f\"w8: {new_w8}\")\n",
    "print(f\"w9: {new_w9}\")\n",
    "print(f\"b1: {new_b1}\")\n",
    "print(f\"b2: {new_b2}\")\n",
    "print(f\"b3: {new_b3}\")\n",
    "print(f\"b4: {new_b4}\")"
   ]
  },
  {
   "cell_type": "markdown",
   "metadata": {},
   "source": []
  },
  {
   "cell_type": "markdown",
   "metadata": {},
   "source": [
    "<b> Trying with new values"
   ]
  },
  {
   "cell_type": "code",
   "execution_count": 77,
   "metadata": {},
   "outputs": [],
   "source": [
    "# initialize weights and biases\n",
    "# in Keras etc. these are usually randomized in the beginning\n",
    "w1 = new_w1\n",
    "w2 = new_w2\n",
    "w3 = new_w3\n",
    "w4 = new_w4\n",
    "w5 = new_w5\n",
    "w6 = new_w6\n",
    "w7 = new_w7\n",
    "w8 = new_w8\n",
    "w9 = new_w9\n",
    "bias1 = new_b1\n",
    "bias2 = new_b2\n",
    "bias3 = new_b3\n",
    "bias4 = new_b4\n",
    "\n",
    "# our training data\n",
    "# x1 = input1, x2 = input2, y = true_value\n",
    "input1 = 1\n",
    "input2 = 0\n",
    "true_value = 2\n",
    "\n",
    "# our learning rate\n",
    "LR = 0.1"
   ]
  },
  {
   "cell_type": "markdown",
   "metadata": {},
   "source": [
    "<b>FORWARD PASS</b>"
   ]
  },
  {
   "cell_type": "code",
   "execution_count": 78,
   "metadata": {},
   "outputs": [
    {
     "data": {
      "text/plain": [
       "0.905431774671341"
      ]
     },
     "execution_count": 78,
     "metadata": {},
     "output_type": "execute_result"
    }
   ],
   "source": [
    "# NODE 1 OUTPUT\n",
    "node_1_output = input1 * w1 + input2 * w4 + bias1\n",
    "node_1_output = activation_ReLu(node_1_output)\n",
    "node_1_output"
   ]
  },
  {
   "cell_type": "code",
   "execution_count": 79,
   "metadata": {},
   "outputs": [
    {
     "data": {
      "text/plain": [
       "0.6014128388258371"
      ]
     },
     "execution_count": 79,
     "metadata": {},
     "output_type": "execute_result"
    }
   ],
   "source": [
    "# NODE 2 OUTPUT\n",
    "node_2_output = input1 * w2 + input2 * w5 + bias2\n",
    "node_2_output = activation_ReLu(node_2_output)\n",
    "node_2_output"
   ]
  },
  {
   "cell_type": "code",
   "execution_count": 80,
   "metadata": {},
   "outputs": [
    {
     "data": {
      "text/plain": [
       "0.9073750726792961"
      ]
     },
     "execution_count": 80,
     "metadata": {},
     "output_type": "execute_result"
    }
   ],
   "source": [
    "node_3_output = input1 * w3 + input2 * w6 + bias3\n",
    "node_3_output = activation_ReLu(node_3_output)\n",
    "node_3_output"
   ]
  },
  {
   "cell_type": "code",
   "execution_count": 81,
   "metadata": {},
   "outputs": [
    {
     "data": {
      "text/plain": [
       "0.9487408245481612"
      ]
     },
     "execution_count": 81,
     "metadata": {},
     "output_type": "execute_result"
    }
   ],
   "source": [
    "# NODE 3 OUTPUT\n",
    "# we can just use Node 1 and 2 outputs, since they\n",
    "# already contain the the previous weights\n",
    "node_4_output = node_1_output * w7 + node_2_output * w8 + node_3_output * w9 + bias3\n",
    "node_4_output = activation_ReLu(node_4_output)\n",
    "node_4_output"
   ]
  },
  {
   "cell_type": "code",
   "execution_count": 82,
   "metadata": {},
   "outputs": [
    {
     "name": "stdout",
     "output_type": "stream",
     "text": [
      "Predicted: 0.9487408245481612 --> True value: 2\n"
     ]
    }
   ],
   "source": [
    "# compare predicted value with true value\n",
    "print(f\"Predicted: {node_4_output} --> True value: {true_value}\")"
   ]
  },
  {
   "cell_type": "code",
   "execution_count": 83,
   "metadata": {},
   "outputs": [
    {
     "data": {
      "text/plain": [
       "1.1051458539716799"
      ]
     },
     "execution_count": 83,
     "metadata": {},
     "output_type": "execute_result"
    }
   ],
   "source": [
    "# LOSS FUNCTION - we are going to use MSE -> mean squared error\n",
    "# MSE formula LOSS => (predicted_value - true_value) ^ 2\n",
    "predicted_value = node_4_output\n",
    "loss = (predicted_value - true_value) ** 2\n",
    "loss"
   ]
  },
  {
   "cell_type": "markdown",
   "metadata": {},
   "source": [
    "<h3>BACKPROPAGATION - update the weights and biases while traversing the network BACKWARDS</h3>"
   ]
  },
  {
   "cell_type": "code",
   "execution_count": 84,
   "metadata": {},
   "outputs": [
    {
     "data": {
      "text/plain": [
       "-0.1162491315563287"
      ]
     },
     "execution_count": 84,
     "metadata": {},
     "output_type": "execute_result"
    }
   ],
   "source": [
    "# solving the partial derivative of the loss function with respect to weight 5\n",
    "deriv_L_w7 = 2 * node_1_output * (node_1_output * w7 + node_2_output * w8 + node_3_output * w9 + bias4 - true_value)\n",
    "deriv_L_w7"
   ]
  },
  {
   "cell_type": "code",
   "execution_count": 85,
   "metadata": {},
   "outputs": [
    {
     "data": {
      "text/plain": [
       "0.1286132024151236"
      ]
     },
     "execution_count": 85,
     "metadata": {},
     "output_type": "execute_result"
    }
   ],
   "source": [
    "# this decreases the weight value a little bit\n",
    "# this is basically our optimizer + learning rate\n",
    "# this optimizer is known as gradient descent\n",
    "new_w7 = w7 - LR * deriv_L_w7\n",
    "new_w7"
   ]
  },
  {
   "cell_type": "code",
   "execution_count": 86,
   "metadata": {},
   "outputs": [
    {
     "data": {
      "text/plain": [
       "-0.07721588989485988"
      ]
     },
     "execution_count": 86,
     "metadata": {},
     "output_type": "execute_result"
    }
   ],
   "source": [
    "# solving the partial derivative of the loss function with respect to weight 6\n",
    "deriv_L_w8 = 2 * node_2_output * (node_1_output * w7 + node_2_output * w8 + node_3_output * w9 + bias4 - true_value)\n",
    "deriv_L_w8"
   ]
  },
  {
   "cell_type": "code",
   "execution_count": 87,
   "metadata": {},
   "outputs": [
    {
     "data": {
      "text/plain": [
       "1.073088092541627"
      ]
     },
     "execution_count": 87,
     "metadata": {},
     "output_type": "execute_result"
    }
   ],
   "source": [
    "# calculate new value for weight 6\n",
    "new_w8 = w8 - LR * deriv_L_w8\n",
    "new_w8"
   ]
  },
  {
   "cell_type": "code",
   "execution_count": 88,
   "metadata": {},
   "outputs": [
    {
     "data": {
      "text/plain": [
       "-0.11649863318869842"
      ]
     },
     "execution_count": 88,
     "metadata": {},
     "output_type": "execute_result"
    }
   ],
   "source": [
    "# solving the partial derivative of the loss function with respect to weight 6\n",
    "deriv_L_w9 = 2 * node_3_output * (node_1_output * w7 + node_2_output * w8 + node_3_output * w9 + bias4 - true_value)\n",
    "deriv_L_w9"
   ]
  },
  {
   "cell_type": "code",
   "execution_count": 89,
   "metadata": {},
   "outputs": [
    {
     "data": {
      "text/plain": [
       "0.6287150251438749"
      ]
     },
     "execution_count": 89,
     "metadata": {},
     "output_type": "execute_result"
    }
   ],
   "source": [
    "# calculate new value for weight 6\n",
    "new_w9 = w9 - LR * deriv_L_w9\n",
    "new_w9"
   ]
  },
  {
   "cell_type": "code",
   "execution_count": 90,
   "metadata": {},
   "outputs": [
    {
     "data": {
      "text/plain": [
       "-0.1283908239232332"
      ]
     },
     "execution_count": 90,
     "metadata": {},
     "output_type": "execute_result"
    }
   ],
   "source": [
    "# solving the partial derivative of the loss function with respect to bias3\n",
    "# NOTE: the * 1 comes from derivating the bias, which is same as derivating x, \n",
    "# which result in 1\n",
    "deriv_L_b4 = 2 * 1 * (node_1_output * w7 + node_2_output * w8 + node_3_output * w9 + bias4 - true_value)\n",
    "deriv_L_b4"
   ]
  },
  {
   "cell_type": "code",
   "execution_count": 91,
   "metadata": {},
   "outputs": [
    {
     "data": {
      "text/plain": [
       "0.6420841167206471"
      ]
     },
     "execution_count": 91,
     "metadata": {},
     "output_type": "execute_result"
    }
   ],
   "source": [
    "# update the bias 3 based on previous derivation\n",
    "new_b4 = bias4 - LR * deriv_L_b4\n",
    "new_b4"
   ]
  },
  {
   "cell_type": "markdown",
   "metadata": {},
   "source": [
    "<b>To access the first layer, we need to use chain rule, in order to calculate new values for w1-w4 and bias1/2</b>"
   ]
  },
  {
   "cell_type": "code",
   "execution_count": 92,
   "metadata": {},
   "outputs": [
    {
     "data": {
      "text/plain": [
       "1.001056249376448"
      ]
     },
     "execution_count": 92,
     "metadata": {},
     "output_type": "execute_result"
    }
   ],
   "source": [
    "# see materials for how we need to split this calculation into two parts\n",
    "# here we solve the left and right sides separately\n",
    "\n",
    "# left side is mostly the same as derivating w5 and w6\n",
    "deriv_L_w1_left = 2 * w7* (node_1_output * w7 + node_2_output * w8 + node_3_output * w9 + bias4- true_value)\n",
    "\n",
    "# right side: use ReLu derivation and remember to match correct weights with correct inputs and biases\n",
    "# based on which weight are you are derivating\n",
    "# COMPARE THE OTHER ORIGINAL PICTURE IN THE MATERIALS\n",
    "# in the case of w1 => use w1 and and w3 inside the Relu-derivation, because\n",
    "# these weights are connected to node 1 (which is connected to w1)\n",
    "# also use bias1, since it's part of node 1\n",
    "# finally, multiply all with input1, because it is connected to w1\n",
    "deriv_L_w1_right = activation_ReLu_partial_derivative(input1 * w1 + input2 * w4 + bias1) * input1\n",
    "deriv_L_w1 = deriv_L_w1_left * deriv_L_w1_right\n",
    "new_w1 = w1 - LR * deriv_L_w1\n",
    "new_w1"
   ]
  },
  {
   "cell_type": "code",
   "execution_count": 93,
   "metadata": {},
   "outputs": [
    {
     "data": {
      "text/plain": [
       "0.6064097488405799"
      ]
     },
     "execution_count": 93,
     "metadata": {},
     "output_type": "execute_result"
    }
   ],
   "source": [
    "# use the same logic as above, but now from the point of view of w2\n",
    "# notice how we use w6 and w2/w4 and bias2 in the equation of right side\n",
    "deriv_L_w2_left = 2 * w8 * (node_1_output * w7 + node_2_output * w8 + node_3_output * w9 + bias4 - true_value)\n",
    "deriv_L_w2_right = activation_ReLu_partial_derivative(input1 * w2 + input2 * w5 + bias2) * input1\n",
    "deriv_L_w2 = deriv_L_w2_left * deriv_L_w2_right\n",
    "new_w2 = w2 - LR * deriv_L_w2\n",
    "new_w2"
   ]
  },
  {
   "cell_type": "code",
   "execution_count": 94,
   "metadata": {},
   "outputs": [
    {
     "data": {
      "text/plain": [
       "1.0"
      ]
     },
     "execution_count": 94,
     "metadata": {},
     "output_type": "execute_result"
    }
   ],
   "source": [
    "# use the same formula again\n",
    "deriv_L_w3_left = 2 * w9 * (node_1_output * w7 + node_2_output * w8 + node_3_output * w9 + bias4 - true_value)\n",
    "deriv_L_w3_right = activation_ReLu_partial_derivative(input1 * w3 + input2 * w6 + bias1) * input2\n",
    "deriv_L_w3 = deriv_L_w3_left * deriv_L_w3_right\n",
    "new_w3 = w3 - LR * deriv_L_w3\n",
    "new_w3"
   ]
  },
  {
   "cell_type": "code",
   "execution_count": 95,
   "metadata": {},
   "outputs": [
    {
     "data": {
      "text/plain": [
       "-0.5"
      ]
     },
     "execution_count": 95,
     "metadata": {},
     "output_type": "execute_result"
    }
   ],
   "source": [
    "# use the same formula again\n",
    "deriv_L_w4_left = 2 * w7 * (node_1_output * w7 + node_2_output * w8 + node_3_output * w9 + bias4 - true_value)\n",
    "deriv_L_w4_right = activation_ReLu_partial_derivative(input1 * w1 + input2 * w4 + bias2) * input2\n",
    "deriv_L_w4 = deriv_L_w4_left * deriv_L_w4_right\n",
    "new_w4 = w4 - LR * deriv_L_w4\n",
    "new_w4"
   ]
  },
  {
   "cell_type": "code",
   "execution_count": 96,
   "metadata": {},
   "outputs": [
    {
     "data": {
      "text/plain": [
       "1.0"
      ]
     },
     "execution_count": 96,
     "metadata": {},
     "output_type": "execute_result"
    }
   ],
   "source": [
    "# use the same formula again\n",
    "deriv_L_w5_left = 2 * w8 * (node_1_output * w7 + node_2_output * w8 + node_3_output * w9 + bias4 - true_value)\n",
    "deriv_L_w5_right = activation_ReLu_partial_derivative(input1 * w2 + input2 * w5 + bias2) * input2\n",
    "deriv_L_w5 = deriv_L_w5_left * deriv_L_w5_right\n",
    "new_w5 = w5 - LR * deriv_L_w5\n",
    "new_w5"
   ]
  },
  {
   "cell_type": "code",
   "execution_count": 97,
   "metadata": {},
   "outputs": [
    {
     "data": {
      "text/plain": [
       "1.0"
      ]
     },
     "execution_count": 97,
     "metadata": {},
     "output_type": "execute_result"
    }
   ],
   "source": [
    "# use the same formula again\n",
    "deriv_L_w6_left = 2 * w9 * (node_1_output * w7 + node_2_output * w8 + node_3_output * w9 + bias4 - true_value)\n",
    "deriv_L_w6_right = activation_ReLu_partial_derivative(input1 * w3 + input2 * w6 + bias2) * input2\n",
    "deriv_L_w6 = deriv_L_w6_left * deriv_L_w6_right\n",
    "new_w6 = w6 - LR * deriv_L_w6\n",
    "new_w6"
   ]
  },
  {
   "cell_type": "code",
   "execution_count": 98,
   "metadata": {},
   "outputs": [
    {
     "data": {
      "text/plain": [
       "0.501056249376448"
      ]
     },
     "execution_count": 98,
     "metadata": {},
     "output_type": "execute_result"
    }
   ],
   "source": [
    "# otherwise the same formula, but we can multiply the right side function with just 1\n",
    "# because it's a derivation of bias-term, which is the same as derivation of x, which results in 1\n",
    "deriv_L_b1_left = 2 * w7 * (node_1_output * w7 + node_2_output * w8 + node_3_output * w9 + bias4 - true_value)\n",
    "deriv_L_b1_right = activation_ReLu_partial_derivative(input1 * w1 + input2 * w4 + bias1) * 1\n",
    "deriv_L_b1 = deriv_L_b1_left * deriv_L_b1_right\n",
    "new_b1 = bias1 - LR * deriv_L_b1\n",
    "new_b1"
   ]
  },
  {
   "cell_type": "code",
   "execution_count": 99,
   "metadata": {},
   "outputs": [
    {
     "data": {
      "text/plain": [
       "0.10640974884057985"
      ]
     },
     "execution_count": 99,
     "metadata": {},
     "output_type": "execute_result"
    }
   ],
   "source": [
    "# similar derivation of bias 2\n",
    "deriv_L_b2_left = 2 * w8 * (node_1_output * w7 + node_2_output * w8 + node_3_output * w9 + bias4 - true_value)\n",
    "deriv_L_b2_right = activation_ReLu_partial_derivative(input1 * w2 + input2 * w5 + bias2) * 1\n",
    "deriv_L_b2 = deriv_L_b2_left * deriv_L_b2_right\n",
    "new_b2 = bias2 - LR * deriv_L_b2\n",
    "new_b2"
   ]
  },
  {
   "cell_type": "code",
   "execution_count": 100,
   "metadata": {},
   "outputs": [
    {
     "data": {
      "text/plain": [
       "0.5138921073871737"
      ]
     },
     "execution_count": 100,
     "metadata": {},
     "output_type": "execute_result"
    }
   ],
   "source": [
    "# otherwise the same formula, but we can multiply the right side function with just 1\n",
    "# because it's a derivation of bias-term, which is the same as derivation of x, which results in 1\n",
    "deriv_L_b3_left = 2 * w9 * (node_1_output * w7 + node_2_output * w8 + node_3_output * w9 + bias4 - true_value)\n",
    "deriv_L_b3_right = activation_ReLu_partial_derivative(input1 * w3 + input2 * w6 + bias1) * 1\n",
    "deriv_L_b3 = deriv_L_b3_left * deriv_L_b3_right\n",
    "new_b3 = bias3 - LR * deriv_L_b3\n",
    "new_b3"
   ]
  },
  {
   "cell_type": "markdown",
   "metadata": {},
   "source": [
    "<b>Everything should be okay now, let's compare the results</b>"
   ]
  },
  {
   "cell_type": "code",
   "execution_count": 101,
   "metadata": {},
   "outputs": [
    {
     "name": "stdout",
     "output_type": "stream",
     "text": [
      "ORIGINAL WEIGHTS AND BIASES\n",
      "w1: 1.0007855950221611\n",
      "w2: 0.5976788363490976\n",
      "w3: 1.0\n",
      "w4: -0.5\n",
      "w5: 1.0\n",
      "w6: 1.0\n",
      "w7: 0.11698828925949073\n",
      "w8: 1.0653665035521411\n",
      "w9: 0.617065161825005\n",
      "b1: 0.5007855950221611\n",
      "b2: 0.09767883634909759\n",
      "b3: 0.5124624846810388\n",
      "b4: 0.6292450343283238\n",
      "\n",
      "\n",
      "######################################\n",
      "NEW WEIGHTS AND BIASES\n",
      "w1: 1.001056249376448\n",
      "w2: 0.6064097488405799\n",
      "w3: 1.0\n",
      "w4: -0.5\n",
      "w5: 1.0\n",
      "w6: 1.0\n",
      "w7: 0.1286132024151236\n",
      "w8: 1.073088092541627\n",
      "w9: 0.6287150251438749\n",
      "b1: 0.501056249376448\n",
      "b2: 0.10640974884057985\n",
      "b3: 0.5138921073871737\n",
      "b4: 0.6420841167206471\n"
     ]
    }
   ],
   "source": [
    "print(\"ORIGINAL WEIGHTS AND BIASES\")\n",
    "print(f\"w1: {w1}\")\n",
    "print(f\"w2: {w2}\")\n",
    "print(f\"w3: {w3}\")\n",
    "print(f\"w4: {w4}\")\n",
    "print(f\"w5: {w5}\")\n",
    "print(f\"w6: {w6}\")\n",
    "print(f\"w7: {w7}\")\n",
    "print(f\"w8: {w8}\")\n",
    "print(f\"w9: {w9}\")\n",
    "print(f\"b1: {bias1}\")\n",
    "print(f\"b2: {bias2}\")\n",
    "print(f\"b3: {bias3}\")\n",
    "print(f\"b4: {bias4}\")\n",
    "\n",
    "print(\"\\n\\n######################################\")\n",
    "\n",
    "print(\"NEW WEIGHTS AND BIASES\")\n",
    "print(f\"w1: {new_w1}\")\n",
    "print(f\"w2: {new_w2}\")\n",
    "print(f\"w3: {new_w3}\")\n",
    "print(f\"w4: {new_w4}\")\n",
    "print(f\"w5: {new_w5}\")\n",
    "print(f\"w6: {new_w6}\")\n",
    "print(f\"w7: {new_w7}\")\n",
    "print(f\"w8: {new_w8}\")\n",
    "print(f\"w9: {new_w9}\")\n",
    "print(f\"b1: {new_b1}\")\n",
    "print(f\"b2: {new_b2}\")\n",
    "print(f\"b3: {new_b3}\")\n",
    "print(f\"b4: {new_b4}\")"
   ]
  }
 ],
 "metadata": {
  "kernelspec": {
   "display_name": ".venv",
   "language": "python",
   "name": "python3"
  },
  "language_info": {
   "codemirror_mode": {
    "name": "ipython",
    "version": 3
   },
   "file_extension": ".py",
   "mimetype": "text/x-python",
   "name": "python",
   "nbconvert_exporter": "python",
   "pygments_lexer": "ipython3",
   "version": "3.10.11"
  }
 },
 "nbformat": 4,
 "nbformat_minor": 2
}
