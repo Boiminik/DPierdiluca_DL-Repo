{
 "cells": [
  {
   "cell_type": "markdown",
   "metadata": {},
   "source": [
    "# GUI for regression ANN"
   ]
  },
  {
   "cell_type": "markdown",
   "metadata": {},
   "source": [
    "This is the same code from ann_regression_diamonds2.ipynb, but I just wanted to create a designated Notebook for easier access."
   ]
  },
  {
   "cell_type": "code",
   "execution_count": 1,
   "metadata": {},
   "outputs": [
    {
     "name": "stderr",
     "output_type": "stream",
     "text": [
      "c:\\Users\\Startklar\\Documents\\Study\\Finnilandi\\DeepLearning\\DPierdiluca_DL-Repo\\.venv\\lib\\site-packages\\keras\\src\\saving\\saving_lib.py:713: UserWarning: Skipping variable loading for optimizer 'rmsprop', because it has 12 variables whereas the saved optimizer has 22 variables. \n",
      "  saveable.load_own_variables(weights_store.get(inner_path))\n"
     ]
    }
   ],
   "source": [
    "import tensorflow as tf\n",
    "from tensorflow.keras.losses import MeanSquaredError\n",
    "import numpy as np\n",
    "from tkinter import Tk, Label, Entry, Button\n",
    "\n",
    "def predict_price():\n",
    "    try:\n",
    "        # Load the trained model\n",
    "        loaded_model = tf.keras.models.load_model('data/model/diamonds_model.keras', custom_objects={'mse': MeanSquaredError()})\n",
    "        \n",
    "        # Get inputs from user\n",
    "        try:\n",
    "            carat = float(entry_carat.get())\n",
    "            if carat <= 0:\n",
    "                raise ValueError(\"Carat must be positive.\")\n",
    "        except ValueError as ve:\n",
    "            result_label.config(text=f\"Error: Invalid input for carat. {ve}\")\n",
    "            return\n",
    "\n",
    "        try:\n",
    "            cut = int(entry_cut.get())\n",
    "            if cut < 1 or cut > 5:\n",
    "                raise ValueError(\"Cut must be between 1 and 5.\")\n",
    "        except ValueError as ve:\n",
    "            result_label.config(text=f\"Error: Invalid input for cut. {ve}\")\n",
    "            return\n",
    "\n",
    "        try:\n",
    "            color = int(entry_color.get())\n",
    "            if color < 1 or color > 7:\n",
    "                raise ValueError(\"Color must be between 1 and 7.\")\n",
    "        except ValueError as ve:\n",
    "            result_label.config(text=f\"Error: Invalid input for color. {ve}\")\n",
    "            return\n",
    "\n",
    "        try:\n",
    "            clarity = int(entry_clarity.get())\n",
    "            if clarity < 1 or clarity > 8:\n",
    "                raise ValueError(\"Clarity must be between 1 and 8.\")\n",
    "        except ValueError as ve:\n",
    "            result_label.config(text=f\"Error: Invalid input for clarity. {ve}\")\n",
    "            return\n",
    "\n",
    "        # Prepare input data\n",
    "        input_data = np.array([[carat, cut, color, clarity]])  # Ensure input is a NumPy array\n",
    "\n",
    "        # Make prediction\n",
    "        prediction = loaded_model.predict(input_data)\n",
    "        \n",
    "        # Display result\n",
    "        result_label.config(text=f\"Predicted Price: {prediction[0][0]:.2f}\")\n",
    "\n",
    "    except Exception as e:\n",
    "        result_label.config(text=f\"Error: {e}\")\n",
    "\n",
    "# Set up the GUI\n",
    "root = Tk()\n",
    "root.title(\"Diamond Price Predictor\")\n",
    "\n",
    "# Input fields\n",
    "Label(root, text=\"Carat:\").grid(row=0, column=0)\n",
    "entry_carat = Entry(root)\n",
    "entry_carat.grid(row=0, column=1)\n",
    "\n",
    "Label(root, text=\"Cut (1-5):\").grid(row=1, column=0)\n",
    "entry_cut = Entry(root)\n",
    "entry_cut.grid(row=1, column=1)\n",
    "\n",
    "Label(root, text=\"Color (1-7):\").grid(row=2, column=0)\n",
    "entry_color = Entry(root)\n",
    "entry_color.grid(row=2, column=1)\n",
    "\n",
    "Label(root, text=\"Clarity (1-8):\").grid(row=3, column=0)\n",
    "entry_clarity = Entry(root)\n",
    "entry_clarity.grid(row=3, column=1)\n",
    "\n",
    "# Prediction button\n",
    "Button(root, text=\"Predict Price\", command=predict_price).grid(row=4, column=0, columnspan=2)\n",
    "\n",
    "# Result label\n",
    "result_label = Label(root, text=\"\")\n",
    "result_label.grid(row=5, column=0, columnspan=2)\n",
    "\n",
    "# Run the GUI\n",
    "root.mainloop()\n"
   ]
  }
 ],
 "metadata": {
  "kernelspec": {
   "display_name": ".venv",
   "language": "python",
   "name": "python3"
  },
  "language_info": {
   "codemirror_mode": {
    "name": "ipython",
    "version": 3
   },
   "file_extension": ".py",
   "mimetype": "text/x-python",
   "name": "python",
   "nbconvert_exporter": "python",
   "pygments_lexer": "ipython3",
   "version": "3.10.11"
  }
 },
 "nbformat": 4,
 "nbformat_minor": 2
}
